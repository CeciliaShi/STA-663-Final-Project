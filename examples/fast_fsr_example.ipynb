{
 "cells": [
  {
   "cell_type": "code",
   "execution_count": 1,
   "metadata": {
    "collapsed": false
   },
   "outputs": [
    {
     "name": "stdout",
     "output_type": "stream",
     "text": [
      "Processing /Users/Cecilia/Desktop/STA 663/project/STA-663-Final-Project/fastfsr\n",
      "  Requirement already satisfied (use --upgrade to upgrade): fastfsr==0.1 from file:///Users/Cecilia/Desktop/STA%20663/project/STA-663-Final-Project/fastfsr in /Users/Cecilia/anaconda/lib/python3.5/site-packages\n"
     ]
    }
   ],
   "source": [
    "!pip install ."
   ]
  },
  {
   "cell_type": "code",
   "execution_count": 2,
   "metadata": {
    "collapsed": true
   },
   "outputs": [],
   "source": [
    "import fastfsr"
   ]
  },
  {
   "cell_type": "code",
   "execution_count": 3,
   "metadata": {
    "collapsed": true
   },
   "outputs": [],
   "source": [
    "%matplotlib inline\n",
    "import seaborn as sns\n",
    "import matplotlib.pyplot as plt\n",
    "\n",
    "import pandas as pd\n",
    "import numpy as np"
   ]
  },
  {
   "cell_type": "markdown",
   "metadata": {},
   "source": [
    "The fsr_fast function performs Fast FSR (no phony var. generation). It returns uses reg_subset to calculate the p-values and feed into fsr_fast_pv to implement the Fast FSR algorithm.\n",
    "The plot from fsr_fast_pv is carried over and will be displayed if `printout = True'.\n",
    "\n",
    "In addition, the residual degrees of freedom, fitted values"
   ]
  },
  {
   "cell_type": "code",
   "execution_count": 4,
   "metadata": {
    "collapsed": false
   },
   "outputs": [
    {
     "data": {
      "text/html": [
       "<div>\n",
       "<table border=\"1\" class=\"dataframe\">\n",
       "  <thead>\n",
       "    <tr style=\"text-align: right;\">\n",
       "      <th></th>\n",
       "      <th>x1</th>\n",
       "      <th>x2</th>\n",
       "      <th>x3</th>\n",
       "      <th>x4</th>\n",
       "      <th>x5</th>\n",
       "      <th>x6</th>\n",
       "      <th>x7</th>\n",
       "      <th>x8</th>\n",
       "      <th>x9</th>\n",
       "      <th>x10</th>\n",
       "      <th>x11</th>\n",
       "      <th>x12</th>\n",
       "      <th>x13</th>\n",
       "      <th>x14</th>\n",
       "      <th>x15</th>\n",
       "      <th>x16</th>\n",
       "      <th>x17</th>\n",
       "      <th>x18</th>\n",
       "      <th>x19</th>\n",
       "    </tr>\n",
       "  </thead>\n",
       "  <tbody>\n",
       "    <tr>\n",
       "      <th>0</th>\n",
       "      <td>13</td>\n",
       "      <td>17</td>\n",
       "      <td>9</td>\n",
       "      <td>15</td>\n",
       "      <td>28.0</td>\n",
       "      <td>0</td>\n",
       "      <td>-1.14045</td>\n",
       "      <td>3.660</td>\n",
       "      <td>4.490</td>\n",
       "      <td>3409</td>\n",
       "      <td>65.8</td>\n",
       "      <td>18</td>\n",
       "      <td>81</td>\n",
       "      <td>42.2</td>\n",
       "      <td>660000</td>\n",
       "      <td>77</td>\n",
       "      <td>100</td>\n",
       "      <td>59</td>\n",
       "      <td>1</td>\n",
       "    </tr>\n",
       "    <tr>\n",
       "      <th>1</th>\n",
       "      <td>28</td>\n",
       "      <td>20</td>\n",
       "      <td>32</td>\n",
       "      <td>18</td>\n",
       "      <td>18.4</td>\n",
       "      <td>18</td>\n",
       "      <td>-0.13719</td>\n",
       "      <td>2.594</td>\n",
       "      <td>3.610</td>\n",
       "      <td>7258</td>\n",
       "      <td>66.3</td>\n",
       "      <td>17</td>\n",
       "      <td>82</td>\n",
       "      <td>40.5</td>\n",
       "      <td>150555</td>\n",
       "      <td>88</td>\n",
       "      <td>94</td>\n",
       "      <td>41</td>\n",
       "      <td>25</td>\n",
       "    </tr>\n",
       "    <tr>\n",
       "      <th>2</th>\n",
       "      <td>32</td>\n",
       "      <td>20</td>\n",
       "      <td>20</td>\n",
       "      <td>20</td>\n",
       "      <td>34.8</td>\n",
       "      <td>18</td>\n",
       "      <td>1.55358</td>\n",
       "      <td>2.060</td>\n",
       "      <td>4.930</td>\n",
       "      <td>6405</td>\n",
       "      <td>75.0</td>\n",
       "      <td>19</td>\n",
       "      <td>71</td>\n",
       "      <td>46.5</td>\n",
       "      <td>415400</td>\n",
       "      <td>94</td>\n",
       "      <td>81</td>\n",
       "      <td>25</td>\n",
       "      <td>36</td>\n",
       "    </tr>\n",
       "    <tr>\n",
       "      <th>3</th>\n",
       "      <td>32</td>\n",
       "      <td>21</td>\n",
       "      <td>24</td>\n",
       "      <td>21</td>\n",
       "      <td>14.5</td>\n",
       "      <td>20</td>\n",
       "      <td>2.05712</td>\n",
       "      <td>2.887</td>\n",
       "      <td>3.876</td>\n",
       "      <td>18294</td>\n",
       "      <td>66.0</td>\n",
       "      <td>16</td>\n",
       "      <td>84</td>\n",
       "      <td>42.2</td>\n",
       "      <td>211000</td>\n",
       "      <td>93</td>\n",
       "      <td>88</td>\n",
       "      <td>26</td>\n",
       "      <td>13</td>\n",
       "    </tr>\n",
       "    <tr>\n",
       "      <th>4</th>\n",
       "      <td>24</td>\n",
       "      <td>20</td>\n",
       "      <td>16</td>\n",
       "      <td>20</td>\n",
       "      <td>21.8</td>\n",
       "      <td>13</td>\n",
       "      <td>-0.77082</td>\n",
       "      <td>2.565</td>\n",
       "      <td>4.960</td>\n",
       "      <td>8259</td>\n",
       "      <td>63.5</td>\n",
       "      <td>16</td>\n",
       "      <td>91</td>\n",
       "      <td>41.2</td>\n",
       "      <td>44000</td>\n",
       "      <td>90</td>\n",
       "      <td>92</td>\n",
       "      <td>32</td>\n",
       "      <td>31</td>\n",
       "    </tr>\n",
       "  </tbody>\n",
       "</table>\n",
       "</div>"
      ],
      "text/plain": [
       "   x1  x2  x3  x4    x5  x6       x7     x8     x9    x10   x11  x12  x13  \\\n",
       "0  13  17   9  15  28.0   0 -1.14045  3.660  4.490   3409  65.8   18   81   \n",
       "1  28  20  32  18  18.4  18 -0.13719  2.594  3.610   7258  66.3   17   82   \n",
       "2  32  20  20  20  34.8  18  1.55358  2.060  4.930   6405  75.0   19   71   \n",
       "3  32  21  24  21  14.5  20  2.05712  2.887  3.876  18294  66.0   16   84   \n",
       "4  24  20  16  20  21.8  13 -0.77082  2.565  4.960   8259  63.5   16   91   \n",
       "\n",
       "    x14     x15  x16  x17  x18  x19  \n",
       "0  42.2  660000   77  100   59    1  \n",
       "1  40.5  150555   88   94   41   25  \n",
       "2  46.5  415400   94   81   25   36  \n",
       "3  42.2  211000   93   88   26   13  \n",
       "4  41.2   44000   90   92   32   31  "
      ]
     },
     "execution_count": 4,
     "metadata": {},
     "output_type": "execute_result"
    }
   ],
   "source": [
    "ncaa = pd.read_csv(\"http://www4.stat.ncsu.edu/~boos/var.select/ncaa.data2.txt\", \n",
    "                   delim_whitespace = True)\n",
    "x = ncaa.ix[:,:-1]\n",
    "y = ncaa.ix[:,-1]\n",
    "x.head()"
   ]
  },
  {
   "cell_type": "code",
   "execution_count": 6,
   "metadata": {
    "collapsed": false
   },
   "outputs": [
    {
     "name": "stdout",
     "output_type": "stream",
     "text": [
      "            pval         pvmax     ghigh          glow\n",
      "0   1.110223e-16  1.110223e-16 -0.000002  9.992007e-16\n",
      "1   6.951095e-05  6.951095e-05  0.000625  3.938954e-04\n",
      "2   1.158459e-02  1.158459e-02  0.065645  2.703071e-02\n",
      "3   5.299074e-03  1.158459e-02  0.027030  2.703071e-02\n",
      "4   2.483425e-03  1.158459e-02  0.027030  2.703071e-02\n",
      "5   4.331519e-02  4.331519e-02  0.101069  8.044250e-02\n",
      "6   5.273414e-02  5.273414e-02  0.097935  7.910121e-02\n",
      "7   1.056315e-01  1.056315e-01  0.158447  8.642579e-02\n",
      "8   8.262706e-02  1.056315e-01  0.086426  8.642579e-02\n",
      "9   5.363568e-02  1.056315e-01  0.086426  8.642579e-02\n",
      "10  2.349586e-01  2.349586e-01  0.192239  1.566390e-01\n",
      "11  2.864403e-01  2.864403e-01  0.190960  1.542371e-01\n",
      "12  3.163182e-01  3.163182e-01  0.170325  1.054394e-01\n",
      "13  2.697263e-01  3.163182e-01  0.105439  1.054394e-01\n",
      "14  4.953258e-01  4.953258e-01  0.165109  1.238314e-01\n",
      "15  6.326487e-01  6.326487e-01  0.158162  1.116439e-01\n",
      "16  7.056418e-01  7.056418e-01  0.124525  7.840464e-02\n",
      "17  8.605404e-01  8.605404e-01  0.095616  4.529160e-02\n",
      "18  9.031976e-01  9.031976e-01  0.047537  0.000000e+00    m1   m  gam0  size  alphamax  alpha_fast\n",
      "0  19  19  0.05     5  0.234958    0.021429\n"
     ]
    },
    {
     "data": {
      "text/plain": [
       "{'df_residual': 88,\n",
       " 'fitted': array([ 39.97319987,  52.64145288,  51.31626901,  49.45817916,\n",
       "         52.76003971,  52.09365876,  62.21731499,  83.46777372,\n",
       "         60.30117759,  68.25962825,  55.49774106,  64.22824537,\n",
       "         56.80145361,  58.13377833,  95.81098975,  45.10069166,\n",
       "         48.5023815 ,  61.75018487,  56.63641511,  30.30552519,\n",
       "         69.63687727,  71.67508299,  47.44581449,  41.38009064,\n",
       "         82.39555916,  60.89678086,  55.86806477,  60.40105953,\n",
       "         52.97306638,  52.32248597,  54.58600284,  54.72958362,\n",
       "         34.98385796,  51.99723444,  36.34890947,  64.92903678,\n",
       "         36.76333365,  63.70743018,  72.27393023,  76.79752933,\n",
       "         63.26698036,  58.23771906,  52.97228084,  50.04166835,\n",
       "         71.06778164,  55.6504356 ,  60.55746898,  56.6493757 ,\n",
       "         40.73802362,  66.17385709,  96.76532902,  63.74160655,\n",
       "         60.50068658,  50.71602229,  52.28020596,  46.87603065,\n",
       "         52.86288238,  72.38682421,  65.26057094,  65.25404745,\n",
       "         84.40695335,  78.03422549,  44.63575344,  38.97775534,\n",
       "         28.69637283,  59.63252913,  55.09716218,  95.952859  ,\n",
       "         73.78844456,  66.64091251,  52.30527841,  59.77698098,\n",
       "         28.13040121,  59.81486661,  73.55932889,  51.73408815,\n",
       "         42.12665683,  66.11674205,  62.39400279,  79.87453995,\n",
       "         66.64400901,  64.23340288,  38.08783758,  38.15882539,\n",
       "         88.93618701,  78.43695163,  67.89315809,  48.27298631,\n",
       "         82.76456973,  59.87605898,  62.13871824,  51.17954363,\n",
       "         66.1725256 ,  49.94174404]),\n",
       " 'index': array([1, 2, 4, 3, 6]),\n",
       " 'residual': 4565.3324512695444,\n",
       " 'size': 5}"
      ]
     },
     "execution_count": 6,
     "metadata": {},
     "output_type": "execute_result"
    },
    {
     "data": {
      "image/png": "[encoded data removed]",
      "text/plain": [
       "<matplotlib.figure.Figure at 0x117b65470>"
      ]
     },
     "metadata": {},
     "output_type": "display_data"
    }
   ],
   "source": [
    "fastfsr.fsr_fast(x, y, plot = True, printout = True)"
   ]
  },
  {
   "cell_type": "code",
   "execution_count": null,
   "metadata": {
    "collapsed": true
   },
   "outputs": [],
   "source": []
  }
 ],
 "metadata": {
  "anaconda-cloud": {},
  "kernelspec": {
   "display_name": "Python [default]",
   "language": "python",
   "name": "python3"
  },
  "language_info": {
   "codemirror_mode": {
    "name": "ipython",
    "version": 3
   },
   "file_extension": ".py",
   "mimetype": "text/x-python",
   "name": "python",
   "nbconvert_exporter": "python",
   "pygments_lexer": "ipython3",
   "version": "3.5.2"
  }
 },
 "nbformat": 4,
 "nbformat_minor": 1
}
