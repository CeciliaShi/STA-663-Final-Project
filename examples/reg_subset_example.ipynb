{
 "cells": [
  {
   "cell_type": "code",
   "execution_count": 1,
   "metadata": {
    "collapsed": false
   },
   "outputs": [
    {
     "name": "stdout",
     "output_type": "stream",
     "text": [
      "Processing /Users/Cecilia/Desktop/STA 663/project/STA-663-Final-Project/fastfsr\n",
      "  Requirement already satisfied (use --upgrade to upgrade): fastfsr==0.1 from file:///Users/Cecilia/Desktop/STA%20663/project/STA-663-Final-Project/fastfsr in /Users/Cecilia/anaconda/lib/python3.5/site-packages\n"
     ]
    }
   ],
   "source": [
    "!pip install ."
   ]
  },
  {
   "cell_type": "code",
   "execution_count": 2,
   "metadata": {
    "collapsed": true
   },
   "outputs": [],
   "source": [
    "import fastfsr"
   ]
  },
  {
   "cell_type": "code",
   "execution_count": 3,
   "metadata": {
    "collapsed": true
   },
   "outputs": [],
   "source": [
    "%matplotlib inline\n",
    "import seaborn as sns\n",
    "import matplotlib.pyplot as plt\n",
    "\n",
    "import pandas as pd\n",
    "import numpy as np"
   ]
  },
  {
   "cell_type": "markdown",
   "metadata": {},
   "source": [
    "In the originally paper, the authors used the R package leaps for best subset selection. However, there does not exist corresponding package or function in Python and hence we also implemented a regression subset selection.\n",
    "\n",
    "The function takes in X and Y and return the best subset selection.\n",
    "* The first returned elements are the indices of the returned variables\n",
    "* The second returned elements are the variables \n",
    "* The third returned elements are the RSS\n",
    "* The forth returned elements are the corresponding p-values"
   ]
  },
  {
   "cell_type": "code",
   "execution_count": 4,
   "metadata": {
    "collapsed": false
   },
   "outputs": [
    {
     "data": {
      "text/html": [
       "<div>\n",
       "<table border=\"1\" class=\"dataframe\">\n",
       "  <thead>\n",
       "    <tr style=\"text-align: right;\">\n",
       "      <th></th>\n",
       "      <th>x1</th>\n",
       "      <th>x2</th>\n",
       "      <th>x3</th>\n",
       "      <th>x4</th>\n",
       "      <th>x5</th>\n",
       "      <th>x6</th>\n",
       "      <th>x7</th>\n",
       "      <th>x8</th>\n",
       "      <th>x9</th>\n",
       "      <th>x10</th>\n",
       "      <th>x11</th>\n",
       "      <th>x12</th>\n",
       "      <th>x13</th>\n",
       "      <th>x14</th>\n",
       "      <th>x15</th>\n",
       "      <th>x16</th>\n",
       "      <th>x17</th>\n",
       "      <th>x18</th>\n",
       "      <th>x19</th>\n",
       "    </tr>\n",
       "  </thead>\n",
       "  <tbody>\n",
       "    <tr>\n",
       "      <th>0</th>\n",
       "      <td>13</td>\n",
       "      <td>17</td>\n",
       "      <td>9</td>\n",
       "      <td>15</td>\n",
       "      <td>28.0</td>\n",
       "      <td>0</td>\n",
       "      <td>-1.14045</td>\n",
       "      <td>3.660</td>\n",
       "      <td>4.490</td>\n",
       "      <td>3409</td>\n",
       "      <td>65.8</td>\n",
       "      <td>18</td>\n",
       "      <td>81</td>\n",
       "      <td>42.2</td>\n",
       "      <td>660000</td>\n",
       "      <td>77</td>\n",
       "      <td>100</td>\n",
       "      <td>59</td>\n",
       "      <td>1</td>\n",
       "    </tr>\n",
       "    <tr>\n",
       "      <th>1</th>\n",
       "      <td>28</td>\n",
       "      <td>20</td>\n",
       "      <td>32</td>\n",
       "      <td>18</td>\n",
       "      <td>18.4</td>\n",
       "      <td>18</td>\n",
       "      <td>-0.13719</td>\n",
       "      <td>2.594</td>\n",
       "      <td>3.610</td>\n",
       "      <td>7258</td>\n",
       "      <td>66.3</td>\n",
       "      <td>17</td>\n",
       "      <td>82</td>\n",
       "      <td>40.5</td>\n",
       "      <td>150555</td>\n",
       "      <td>88</td>\n",
       "      <td>94</td>\n",
       "      <td>41</td>\n",
       "      <td>25</td>\n",
       "    </tr>\n",
       "    <tr>\n",
       "      <th>2</th>\n",
       "      <td>32</td>\n",
       "      <td>20</td>\n",
       "      <td>20</td>\n",
       "      <td>20</td>\n",
       "      <td>34.8</td>\n",
       "      <td>18</td>\n",
       "      <td>1.55358</td>\n",
       "      <td>2.060</td>\n",
       "      <td>4.930</td>\n",
       "      <td>6405</td>\n",
       "      <td>75.0</td>\n",
       "      <td>19</td>\n",
       "      <td>71</td>\n",
       "      <td>46.5</td>\n",
       "      <td>415400</td>\n",
       "      <td>94</td>\n",
       "      <td>81</td>\n",
       "      <td>25</td>\n",
       "      <td>36</td>\n",
       "    </tr>\n",
       "    <tr>\n",
       "      <th>3</th>\n",
       "      <td>32</td>\n",
       "      <td>21</td>\n",
       "      <td>24</td>\n",
       "      <td>21</td>\n",
       "      <td>14.5</td>\n",
       "      <td>20</td>\n",
       "      <td>2.05712</td>\n",
       "      <td>2.887</td>\n",
       "      <td>3.876</td>\n",
       "      <td>18294</td>\n",
       "      <td>66.0</td>\n",
       "      <td>16</td>\n",
       "      <td>84</td>\n",
       "      <td>42.2</td>\n",
       "      <td>211000</td>\n",
       "      <td>93</td>\n",
       "      <td>88</td>\n",
       "      <td>26</td>\n",
       "      <td>13</td>\n",
       "    </tr>\n",
       "    <tr>\n",
       "      <th>4</th>\n",
       "      <td>24</td>\n",
       "      <td>20</td>\n",
       "      <td>16</td>\n",
       "      <td>20</td>\n",
       "      <td>21.8</td>\n",
       "      <td>13</td>\n",
       "      <td>-0.77082</td>\n",
       "      <td>2.565</td>\n",
       "      <td>4.960</td>\n",
       "      <td>8259</td>\n",
       "      <td>63.5</td>\n",
       "      <td>16</td>\n",
       "      <td>91</td>\n",
       "      <td>41.2</td>\n",
       "      <td>44000</td>\n",
       "      <td>90</td>\n",
       "      <td>92</td>\n",
       "      <td>32</td>\n",
       "      <td>31</td>\n",
       "    </tr>\n",
       "  </tbody>\n",
       "</table>\n",
       "</div>"
      ],
      "text/plain": [
       "   x1  x2  x3  x4    x5  x6       x7     x8     x9    x10   x11  x12  x13  \\\n",
       "0  13  17   9  15  28.0   0 -1.14045  3.660  4.490   3409  65.8   18   81   \n",
       "1  28  20  32  18  18.4  18 -0.13719  2.594  3.610   7258  66.3   17   82   \n",
       "2  32  20  20  20  34.8  18  1.55358  2.060  4.930   6405  75.0   19   71   \n",
       "3  32  21  24  21  14.5  20  2.05712  2.887  3.876  18294  66.0   16   84   \n",
       "4  24  20  16  20  21.8  13 -0.77082  2.565  4.960   8259  63.5   16   91   \n",
       "\n",
       "    x14     x15  x16  x17  x18  x19  \n",
       "0  42.2  660000   77  100   59    1  \n",
       "1  40.5  150555   88   94   41   25  \n",
       "2  46.5  415400   94   81   25   36  \n",
       "3  42.2  211000   93   88   26   13  \n",
       "4  41.2   44000   90   92   32   31  "
      ]
     },
     "execution_count": 4,
     "metadata": {},
     "output_type": "execute_result"
    }
   ],
   "source": [
    "ncaa = pd.read_csv(\"http://www4.stat.ncsu.edu/~boos/var.select/ncaa.data2.txt\", \n",
    "                   delim_whitespace = True)\n",
    "x = ncaa.ix[:,:-1]\n",
    "y = ncaa.ix[:,-1]\n",
    "x.head()"
   ]
  },
  {
   "cell_type": "code",
   "execution_count": 5,
   "metadata": {
    "collapsed": false
   },
   "outputs": [
    {
     "data": {
      "text/plain": [
       "(array([ 1,  2,  4,  3,  6, 16, 14,  5,  8,  7, 11,  9, 12, 17, 10,  0, 13,\n",
       "        18, 15]),\n",
       " array(['x2', 'x3', 'x5', 'x4', 'x7', 'x17', 'x15', 'x6', 'x9', 'x8', 'x12',\n",
       "        'x10', 'x13', 'x18', 'x11', 'x1', 'x14', 'x19', 'x16'], dtype=object),\n",
       " array([ 24148.87276596,   7077.86138645,   5942.5387484 ,   5534.10114754,\n",
       "          5068.71560461,   4565.33245127,   4354.85020305,   4167.86982143,\n",
       "          4040.70513154,   3897.53072484,   3725.51704978,   3661.59293365,\n",
       "          3610.27305639,   3564.96214367,   3510.07074574,   3489.07672866,\n",
       "          3478.67153268,   3472.10439175,   3470.66621376,   3469.96781547]),\n",
       " array([  1.11022302e-16,   6.95109478e-05,   1.15845889e-02,\n",
       "          5.29907450e-03,   2.48342482e-03,   4.33151925e-02,\n",
       "          5.27341418e-02,   1.05631519e-01,   8.26270613e-02,\n",
       "          5.36356789e-02,   2.34958569e-01,   2.86440303e-01,\n",
       "          3.16318194e-01,   2.69726331e-01,   4.95325787e-01,\n",
       "          6.32648734e-01,   7.05641795e-01,   8.60540370e-01,\n",
       "          9.03197593e-01]))"
      ]
     },
     "execution_count": 5,
     "metadata": {},
     "output_type": "execute_result"
    }
   ],
   "source": [
    "fastfsr.reg_subset(x, y)"
   ]
  },
  {
   "cell_type": "code",
   "execution_count": null,
   "metadata": {
    "collapsed": true
   },
   "outputs": [],
   "source": []
  }
 ],
 "metadata": {
  "anaconda-cloud": {},
  "kernelspec": {
   "display_name": "Python [default]",
   "language": "python",
   "name": "python3"
  },
  "language_info": {
   "codemirror_mode": {
    "name": "ipython",
    "version": 3
   },
   "file_extension": ".py",
   "mimetype": "text/x-python",
   "name": "python",
   "nbconvert_exporter": "python",
   "pygments_lexer": "ipython3",
   "version": "3.5.2"
  }
 },
 "nbformat": 4,
 "nbformat_minor": 1
}
