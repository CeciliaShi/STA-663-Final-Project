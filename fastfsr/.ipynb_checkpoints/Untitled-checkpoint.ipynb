{
 "cells": [
  {
   "cell_type": "code",
   "execution_count": 1,
   "metadata": {
    "collapsed": false
   },
   "outputs": [
    {
     "name": "stdout",
     "output_type": "stream",
     "text": [
      "Processing /Users/Rita/Desktop/STA_663/STA-663-Final-Project-colab/fastfsr\n",
      "  Requirement already satisfied (use --upgrade to upgrade): fastfsr==0.1 from file:///Users/Rita/Desktop/STA_663/STA-663-Final-Project-colab/fastfsr in /Users/Rita/anaconda/lib/python3.5/site-packages\n"
     ]
    }
   ],
   "source": [
    "!pip install ."
   ]
  },
  {
   "cell_type": "code",
   "execution_count": 2,
   "metadata": {
    "collapsed": false
   },
   "outputs": [],
   "source": [
    "import fastfsr"
   ]
  },
  {
   "cell_type": "code",
   "execution_count": 3,
   "metadata": {
    "collapsed": false
   },
   "outputs": [
    {
     "data": {
      "text/html": [
       "<div>\n",
       "<table border=\"1\" class=\"dataframe\">\n",
       "  <thead>\n",
       "    <tr style=\"text-align: right;\">\n",
       "      <th></th>\n",
       "      <th>x1</th>\n",
       "      <th>x2</th>\n",
       "      <th>x3</th>\n",
       "      <th>x4</th>\n",
       "      <th>x5</th>\n",
       "      <th>x6</th>\n",
       "      <th>x7</th>\n",
       "      <th>x8</th>\n",
       "      <th>x9</th>\n",
       "      <th>x10</th>\n",
       "      <th>x11</th>\n",
       "      <th>x12</th>\n",
       "      <th>x13</th>\n",
       "      <th>x14</th>\n",
       "      <th>x15</th>\n",
       "      <th>x16</th>\n",
       "      <th>x17</th>\n",
       "      <th>x18</th>\n",
       "      <th>x19</th>\n",
       "    </tr>\n",
       "  </thead>\n",
       "  <tbody>\n",
       "    <tr>\n",
       "      <th>0</th>\n",
       "      <td>13</td>\n",
       "      <td>17</td>\n",
       "      <td>9</td>\n",
       "      <td>15</td>\n",
       "      <td>28.0</td>\n",
       "      <td>0</td>\n",
       "      <td>-1.14045</td>\n",
       "      <td>3.660</td>\n",
       "      <td>4.490</td>\n",
       "      <td>3409</td>\n",
       "      <td>65.8</td>\n",
       "      <td>18</td>\n",
       "      <td>81</td>\n",
       "      <td>42.2</td>\n",
       "      <td>660000</td>\n",
       "      <td>77</td>\n",
       "      <td>100</td>\n",
       "      <td>59</td>\n",
       "      <td>1</td>\n",
       "    </tr>\n",
       "    <tr>\n",
       "      <th>1</th>\n",
       "      <td>28</td>\n",
       "      <td>20</td>\n",
       "      <td>32</td>\n",
       "      <td>18</td>\n",
       "      <td>18.4</td>\n",
       "      <td>18</td>\n",
       "      <td>-0.13719</td>\n",
       "      <td>2.594</td>\n",
       "      <td>3.610</td>\n",
       "      <td>7258</td>\n",
       "      <td>66.3</td>\n",
       "      <td>17</td>\n",
       "      <td>82</td>\n",
       "      <td>40.5</td>\n",
       "      <td>150555</td>\n",
       "      <td>88</td>\n",
       "      <td>94</td>\n",
       "      <td>41</td>\n",
       "      <td>25</td>\n",
       "    </tr>\n",
       "    <tr>\n",
       "      <th>2</th>\n",
       "      <td>32</td>\n",
       "      <td>20</td>\n",
       "      <td>20</td>\n",
       "      <td>20</td>\n",
       "      <td>34.8</td>\n",
       "      <td>18</td>\n",
       "      <td>1.55358</td>\n",
       "      <td>2.060</td>\n",
       "      <td>4.930</td>\n",
       "      <td>6405</td>\n",
       "      <td>75.0</td>\n",
       "      <td>19</td>\n",
       "      <td>71</td>\n",
       "      <td>46.5</td>\n",
       "      <td>415400</td>\n",
       "      <td>94</td>\n",
       "      <td>81</td>\n",
       "      <td>25</td>\n",
       "      <td>36</td>\n",
       "    </tr>\n",
       "    <tr>\n",
       "      <th>3</th>\n",
       "      <td>32</td>\n",
       "      <td>21</td>\n",
       "      <td>24</td>\n",
       "      <td>21</td>\n",
       "      <td>14.5</td>\n",
       "      <td>20</td>\n",
       "      <td>2.05712</td>\n",
       "      <td>2.887</td>\n",
       "      <td>3.876</td>\n",
       "      <td>18294</td>\n",
       "      <td>66.0</td>\n",
       "      <td>16</td>\n",
       "      <td>84</td>\n",
       "      <td>42.2</td>\n",
       "      <td>211000</td>\n",
       "      <td>93</td>\n",
       "      <td>88</td>\n",
       "      <td>26</td>\n",
       "      <td>13</td>\n",
       "    </tr>\n",
       "    <tr>\n",
       "      <th>4</th>\n",
       "      <td>24</td>\n",
       "      <td>20</td>\n",
       "      <td>16</td>\n",
       "      <td>20</td>\n",
       "      <td>21.8</td>\n",
       "      <td>13</td>\n",
       "      <td>-0.77082</td>\n",
       "      <td>2.565</td>\n",
       "      <td>4.960</td>\n",
       "      <td>8259</td>\n",
       "      <td>63.5</td>\n",
       "      <td>16</td>\n",
       "      <td>91</td>\n",
       "      <td>41.2</td>\n",
       "      <td>44000</td>\n",
       "      <td>90</td>\n",
       "      <td>92</td>\n",
       "      <td>32</td>\n",
       "      <td>31</td>\n",
       "    </tr>\n",
       "  </tbody>\n",
       "</table>\n",
       "</div>"
      ],
      "text/plain": [
       "   x1  x2  x3  x4    x5  x6       x7     x8     x9    x10   x11  x12  x13  \\\n",
       "0  13  17   9  15  28.0   0 -1.14045  3.660  4.490   3409  65.8   18   81   \n",
       "1  28  20  32  18  18.4  18 -0.13719  2.594  3.610   7258  66.3   17   82   \n",
       "2  32  20  20  20  34.8  18  1.55358  2.060  4.930   6405  75.0   19   71   \n",
       "3  32  21  24  21  14.5  20  2.05712  2.887  3.876  18294  66.0   16   84   \n",
       "4  24  20  16  20  21.8  13 -0.77082  2.565  4.960   8259  63.5   16   91   \n",
       "\n",
       "    x14     x15  x16  x17  x18  x19  \n",
       "0  42.2  660000   77  100   59    1  \n",
       "1  40.5  150555   88   94   41   25  \n",
       "2  46.5  415400   94   81   25   36  \n",
       "3  42.2  211000   93   88   26   13  \n",
       "4  41.2   44000   90   92   32   31  "
      ]
     },
     "execution_count": 3,
     "metadata": {},
     "output_type": "execute_result"
    }
   ],
   "source": [
    "import pandas as pd\n",
    "ncaa = pd.read_csv(\"http://www4.stat.ncsu.edu/~boos/var.select/ncaa.data2.txt\", \n",
    "                   delim_whitespace = True)\n",
    "x = ncaa.ix[:,:-1]\n",
    "y = ncaa.ix[:,-1]\n",
    "x.head()"
   ]
  },
  {
   "cell_type": "code",
   "execution_count": 4,
   "metadata": {
    "collapsed": false
   },
   "outputs": [
    {
     "data": {
      "text/plain": [
       "{'df_residual': 92,\n",
       " 'fitted': array([ 52.92355824,  57.0009211 ,  57.0009211 ,  58.36004205,\n",
       "         57.0009211 ,  54.28267919,  58.36004205,  66.51476775,\n",
       "         55.64180014,  63.79652585,  55.64180014,  59.719163  ,\n",
       "         61.07828395,  59.719163  ,  69.23300966,  55.64180014,\n",
       "         54.28267919,  62.4374049 ,  58.36004205,  51.56443729,\n",
       "         62.4374049 ,  62.4374049 ,  57.0009211 ,  54.28267919,\n",
       "         63.79652585,  58.36004205,  59.719163  ,  59.719163  ,\n",
       "         58.36004205,  57.0009211 ,  55.64180014,  59.719163  ,\n",
       "         54.28267919,  58.36004205,  52.92355824,  61.07828395,\n",
       "         55.64180014,  59.719163  ,  62.4374049 ,  63.79652585,\n",
       "         58.36004205,  59.719163  ,  57.0009211 ,  57.0009211 ,\n",
       "         62.4374049 ,  57.0009211 ,  58.36004205,  58.36004205,\n",
       "         55.64180014,  62.4374049 ,  67.87388871,  59.719163  ,\n",
       "         58.36004205,  58.36004205,  59.719163  ,  55.64180014,\n",
       "         57.0009211 ,  61.07828395,  59.719163  ,  59.719163  ,\n",
       "         67.87388871,  62.4374049 ,  55.64180014,  52.92355824,\n",
       "         51.56443729,  58.36004205,  55.64180014,  67.87388871,\n",
       "         62.4374049 ,  59.719163  ,  59.719163  ,  58.36004205,\n",
       "         51.56443729,  59.719163  ,  61.07828395,  57.0009211 ,\n",
       "         54.28267919,  61.07828395,  61.07828395,  65.1556468 ,\n",
       "         62.4374049 ,  62.4374049 ,  55.64180014,  57.0009211 ,\n",
       "         65.1556468 ,  65.1556468 ,  59.719163  ,  57.0009211 ,\n",
       "         65.1556468 ,  59.719163  ,  58.36004205,  55.64180014,\n",
       "         61.07828395,  57.0009211 ]),\n",
       " 'index': array([1]),\n",
       " 'residual': 15913.861386451388,\n",
       " 'size': 1}"
      ]
     },
     "execution_count": 4,
     "metadata": {},
     "output_type": "execute_result"
    }
   ],
   "source": [
    "fastfsr.lasso_fit(x,y)"
   ]
  },
  {
   "cell_type": "code",
   "execution_count": 5,
   "metadata": {
    "collapsed": false
   },
   "outputs": [
    {
     "ename": "NameError",
     "evalue": "name 'np' is not defined",
     "output_type": "error",
     "traceback": [
      "\u001b[0;31m---------------------------------------------------------------------------\u001b[0m",
      "\u001b[0;31mNameError\u001b[0m                                 Traceback (most recent call last)",
      "\u001b[0;32m<ipython-input-5-a8a2b02b053c>\u001b[0m in \u001b[0;36m<module>\u001b[0;34m()\u001b[0m\n\u001b[0;32m----> 1\u001b[0;31m pval = np.array([  1.11022302e-16,   6.95109478e-05,   1.15845889e-02,\n\u001b[0m\u001b[1;32m      2\u001b[0m           \u001b[0;36m5.29907450e-03\u001b[0m\u001b[0;34m,\u001b[0m   \u001b[0;36m2.48342482e-03\u001b[0m\u001b[0;34m,\u001b[0m   \u001b[0;36m4.33151925e-02\u001b[0m\u001b[0;34m,\u001b[0m\u001b[0;34m\u001b[0m\u001b[0m\n\u001b[1;32m      3\u001b[0m           \u001b[0;36m5.27341418e-02\u001b[0m\u001b[0;34m,\u001b[0m   \u001b[0;36m1.05631519e-01\u001b[0m\u001b[0;34m,\u001b[0m   \u001b[0;36m8.26270613e-02\u001b[0m\u001b[0;34m,\u001b[0m\u001b[0;34m\u001b[0m\u001b[0m\n\u001b[1;32m      4\u001b[0m           \u001b[0;36m5.36356789e-02\u001b[0m\u001b[0;34m,\u001b[0m   \u001b[0;36m2.34958569e-01\u001b[0m\u001b[0;34m,\u001b[0m   \u001b[0;36m2.86440303e-01\u001b[0m\u001b[0;34m,\u001b[0m\u001b[0;34m\u001b[0m\u001b[0m\n\u001b[1;32m      5\u001b[0m           \u001b[0;36m3.16318194e-01\u001b[0m\u001b[0;34m,\u001b[0m   \u001b[0;36m2.69726331e-01\u001b[0m\u001b[0;34m,\u001b[0m   \u001b[0;36m4.95325787e-01\u001b[0m\u001b[0;34m,\u001b[0m\u001b[0;34m\u001b[0m\u001b[0m\n",
      "\u001b[0;31mNameError\u001b[0m: name 'np' is not defined"
     ]
    }
   ],
   "source": [
    "pval = np.array([  1.11022302e-16,   6.95109478e-05,   1.15845889e-02,\n",
    "          5.29907450e-03,   2.48342482e-03,   4.33151925e-02,\n",
    "          5.27341418e-02,   1.05631519e-01,   8.26270613e-02,\n",
    "          5.36356789e-02,   2.34958569e-01,   2.86440303e-01,\n",
    "          3.16318194e-01,   2.69726331e-01,   4.95325787e-01,\n",
    "          6.32648734e-01,   7.05641795e-01,   8.60540370e-01,\n",
    "          9.03197593e-01])\n",
    "fastfsr.fsr_fast_pv(pval, x.shape[1])"
   ]
  },
  {
   "cell_type": "code",
   "execution_count": null,
   "metadata": {
    "collapsed": true
   },
   "outputs": [],
   "source": []
  }
 ],
 "metadata": {
  "anaconda-cloud": {},
  "kernelspec": {
   "display_name": "Python [Root]",
   "language": "python",
   "name": "Python [Root]"
  },
  "language_info": {
   "codemirror_mode": {
    "name": "ipython",
    "version": 3
   },
   "file_extension": ".py",
   "mimetype": "text/x-python",
   "name": "python",
   "nbconvert_exporter": "python",
   "pygments_lexer": "ipython3",
   "version": "3.5.2"
  }
 },
 "nbformat": 4,
 "nbformat_minor": 0
}
