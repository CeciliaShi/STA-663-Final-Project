{
 "cells": [
  {
   "cell_type": "code",
   "execution_count": 53,
   "metadata": {
    "collapsed": false
   },
   "outputs": [],
   "source": [
    "%matplotlib inline\n",
    "import seaborn as sns\n",
    "import matplotlib.pyplot as plt\n",
    "\n",
    "import pandas as pd\n",
    "import numpy as np\n",
    "import sklearn.linear_model as sl\n",
    "import scipy.stats as st"
   ]
  },
  {
   "cell_type": "code",
   "execution_count": 54,
   "metadata": {
    "collapsed": false
   },
   "outputs": [],
   "source": [
    "ncaa = pd.read_csv(\"http://www4.stat.ncsu.edu/~boos/var.select/ncaa.data2.txt\", \n",
    "                   delim_whitespace = True)\n",
    "x = ncaa.ix[:,:-1]\n",
    "y = ncaa.ix[:,-1]"
   ]
  },
  {
   "cell_type": "code",
   "execution_count": 55,
   "metadata": {
    "collapsed": false
   },
   "outputs": [],
   "source": [
    "def reg_subset(x,y):\n",
    "    lm = sl.LinearRegression()\n",
    "    \n",
    "    in_ = []\n",
    "    out_ = list(range(x.shape[1]))\n",
    "    rss = [sum((y-np.mean(y))**2)]\n",
    "    (n,m) = x.shape\n",
    "    \n",
    "    if(m>=n):\n",
    "        ml = n-5\n",
    "    else:\n",
    "        ml = m   \n",
    "    vm = np.array(range(ml))\n",
    "\n",
    "    for pi in range(x.shape[1]):\n",
    "        rss_find = []\n",
    "        for i in out_:\n",
    "            fit_X = pd.DataFrame(x.ix[:, in_ + [i]])\n",
    "            lm.fit(fit_X, y)\n",
    "            pred = lm.predict(fit_X)\n",
    "            rss_find.append(sum((pred-y)**2))\n",
    "        min_rss = np.min(rss_find)\n",
    "        min_var = out_[rss_find.index(min_rss)]\n",
    "        rss.append(min_rss)\n",
    "        in_.append(min_var)\n",
    "        del out_[rss_find.index(min_rss)]\n",
    "        in_var = [x.columns[i] for i in in_]\n",
    "    rss = np.array(rss)\n",
    "    pv_org = 1 - st.f.cdf((rss[vm] - rss[vm+1])*(n-(vm+2))/rss[vm+1],\n",
    "                     1,n-(vm+2))\n",
    "    return (np.array(in_),np.array(in_var),rss[1:], pv_org)"
   ]
  },
  {
   "cell_type": "code",
   "execution_count": 56,
   "metadata": {
    "collapsed": true
   },
   "outputs": [],
   "source": [
    "def fsr_fast_pv(pv_orig, m, gam0 = 0.05, digits = 4):\n",
    "    m1 = len(pv_orig)\n",
    "    pvm = np.zeros(m1)\n",
    "\n",
    "    # create monotone p-values\n",
    "    for i in range(0, m1):\n",
    "        pvm[i] = np.max(pv_orig[0:(i+1)])\n",
    "    alpha = np.concatenate([np.array([0]), pvm])\n",
    "    ng = len(alpha)\n",
    "    \n",
    "    # calculate model size\n",
    "    S = np.zeros(ng)\n",
    "    for j in range(1, ng):\n",
    "        S[j] = sum(pvm <= alpha[j])\n",
    "        \n",
    "    # calculate gamma hat\n",
    "    ghat = (m - S)*alpha/(1 + S)\n",
    "    \n",
    "    # add additional points to make jumps\n",
    "    alpha2 = alpha[1:ng] - 0.0000001\n",
    "    ghat2 = (m - S[0:(ng - 1)])*alpha2/(1 + S[0:(ng - 1)])\n",
    "    zp = pd.DataFrame({'a': np.concatenate([alpha, alpha2]), 'g': np.concatenate([ghat, ghat2])})\n",
    "    zp.sort_values(by =['a', 'g'], ascending = [True, False], inplace = True)\n",
    "    \n",
    "    # largest gamma hat and index\n",
    "    gamma_max = np.argmax(zp['g'])\n",
    "    \n",
    "    alpha_max = zp['a'][gamma_max]\n",
    "\n",
    "    # model size with ghat just below gam0\n",
    "    ind = np.logical_and(ghat <= gam0, alpha <= alpha_max)*1\n",
    "    Sind = S[np.max(np.where(ind > 0))]\n",
    "    \n",
    "    # calculate alpha_F\n",
    "    alpha_fast = (1 + Sind)*gam0/(m - Sind)\n",
    "    \n",
    "    # size of model including intercept\n",
    "    size1 = sum(pvm <= alpha_fast) + 1\n",
    "    \n",
    "    # generate plot\n",
    "    plt.plot(zp['a'], zp['g'], marker = 'o', markersize = 6)\n",
    "    plt.ylabel('Estimated Gamma')\n",
    "    plt.xlabel('Alpha')\n",
    "    pass\n",
    "\n",
    "    df1 = pd.DataFrame({'pval': pv_orig, 'pvmax': pvm, 'ghigh': ghat2, 'glow': ghat[1:ng]}, columns = ['pval', 'pvmax', 'ghigh', 'glow'])\n",
    "    print(np.round(df1, digits))\n",
    "    df2 = pd.DataFrame()\n",
    "    print(pd.DataFrame({'m1': m1, 'm': m, 'gam0': gam0, 'size': size1 - 1, 'alphamax': alpha_max, 'alpha_fast': alpha_fast}, columns = ['m1', 'm', 'gam0', 'size', 'alphamax', 'alpha_fast'], index=[0]))\n",
    "    \n",
    "    return[np.round(df1, digits), alpha_fast, alpha_max, gam0]"
   ]
  },
  {
   "cell_type": "code",
   "execution_count": 57,
   "metadata": {
    "collapsed": false
   },
   "outputs": [],
   "source": [
    "def fsr_fast(x, y, gam0 = 0.05,digits = 4,print = True, plot = True):\n",
    "    \"\"\"\n",
    "    Estimated alpha for forward selection using Fast FSR(no simulation)\n",
    "    \"\"\"\n",
    "    \n",
    "    df = pd.concat([x,y], axis = 1)\n",
    "    x = df.ix[:,:-1]\n",
    "    y = df.ix[:,-1]\n",
    "\n",
    "    out = reg_subset(x,y)\n",
    "    pv_orig = out[3]\n",
    "    m = len(pv_orig)\n",
    "    return(fsr_fast_pv(pv_orig, m))    "
   ]
  },
  {
   "cell_type": "code",
   "execution_count": 58,
   "metadata": {
    "collapsed": false
   },
   "outputs": [
    {
     "name": "stdout",
     "output_type": "stream",
     "text": [
      "      pval   pvmax   ghigh    glow\n",
      "0   0.0000  0.0000 -0.0000  0.0000\n",
      "1   0.0001  0.0001  0.0006  0.0004\n",
      "2   0.0116  0.0116  0.0656  0.0270\n",
      "3   0.0053  0.0116  0.0270  0.0270\n",
      "4   0.0025  0.0116  0.0270  0.0270\n",
      "5   0.0433  0.0433  0.1011  0.0804\n",
      "6   0.0527  0.0527  0.0979  0.0791\n",
      "7   0.1056  0.1056  0.1584  0.0864\n",
      "8   0.0826  0.1056  0.0864  0.0864\n",
      "9   0.0536  0.1056  0.0864  0.0864\n",
      "10  0.2350  0.2350  0.1922  0.1566\n",
      "11  0.2864  0.2864  0.1910  0.1542\n",
      "12  0.3163  0.3163  0.1703  0.1054\n",
      "13  0.2697  0.3163  0.1054  0.1054\n",
      "14  0.4953  0.4953  0.1651  0.1238\n",
      "15  0.6326  0.6326  0.1582  0.1116\n",
      "16  0.7056  0.7056  0.1245  0.0784\n",
      "17  0.8605  0.8605  0.0956  0.0453\n",
      "18  0.9032  0.9032  0.0475  0.0000\n",
      "   m1   m  gam0  size  alphamax  alpha_fast\n",
      "0  19  19  0.05     5  0.234958    0.021429\n"
     ]
    },
    {
     "data": {
      "text/plain": [
       "[      pval   pvmax   ghigh    glow\n",
       " 0   0.0000  0.0000 -0.0000  0.0000\n",
       " 1   0.0001  0.0001  0.0006  0.0004\n",
       " 2   0.0116  0.0116  0.0656  0.0270\n",
       " 3   0.0053  0.0116  0.0270  0.0270\n",
       " 4   0.0025  0.0116  0.0270  0.0270\n",
       " 5   0.0433  0.0433  0.1011  0.0804\n",
       " 6   0.0527  0.0527  0.0979  0.0791\n",
       " 7   0.1056  0.1056  0.1584  0.0864\n",
       " 8   0.0826  0.1056  0.0864  0.0864\n",
       " 9   0.0536  0.1056  0.0864  0.0864\n",
       " 10  0.2350  0.2350  0.1922  0.1566\n",
       " 11  0.2864  0.2864  0.1910  0.1542\n",
       " 12  0.3163  0.3163  0.1703  0.1054\n",
       " 13  0.2697  0.3163  0.1054  0.1054\n",
       " 14  0.4953  0.4953  0.1651  0.1238\n",
       " 15  0.6326  0.6326  0.1582  0.1116\n",
       " 16  0.7056  0.7056  0.1245  0.0784\n",
       " 17  0.8605  0.8605  0.0956  0.0453\n",
       " 18  0.9032  0.9032  0.0475  0.0000,\n",
       " 0.021428571428571432,\n",
       " 0.23495846851853724,\n",
       " 0.05]"
      ]
     },
     "execution_count": 58,
     "metadata": {},
     "output_type": "execute_result"
    },
    {
     "data": {
      "image/png": "[encoded data removed]",
      "text/plain": [
       "<matplotlib.figure.Figure at 0x1165a5a20>"
      ]
     },
     "metadata": {},
     "output_type": "display_data"
    }
   ],
   "source": [
    "fsr_fast(x,y)"
   ]
  },
  {
   "cell_type": "code",
   "execution_count": null,
   "metadata": {
    "collapsed": true
   },
   "outputs": [],
   "source": []
  }
 ],
 "metadata": {
  "anaconda-cloud": {},
  "kernelspec": {
   "display_name": "Python [Root]",
   "language": "python",
   "name": "Python [Root]"
  },
  "language_info": {
   "codemirror_mode": {
    "name": "ipython",
    "version": 3
   },
   "file_extension": ".py",
   "mimetype": "text/x-python",
   "name": "python",
   "nbconvert_exporter": "python",
   "pygments_lexer": "ipython3",
   "version": "3.5.2"
  }
 },
 "nbformat": 4,
 "nbformat_minor": 0
}
