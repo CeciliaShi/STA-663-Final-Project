{
 "cells": [
  {
   "cell_type": "code",
   "execution_count": 148,
   "metadata": {
    "collapsed": false
   },
   "outputs": [],
   "source": [
    "%matplotlib inline\n",
    "import numpy as np\n",
    "import pandas as pd\n",
    "import seaborn as sns\n",
    "import matplotlib.pyplot as plt"
   ]
  },
  {
   "cell_type": "code",
   "execution_count": 207,
   "metadata": {
    "collapsed": false
   },
   "outputs": [],
   "source": [
    "def fsr_fast_pv(pv_orig, m, gam0 = 0.05, digits = 4):\n",
    "    m1 = len(pv_orig)\n",
    "    pvm = np.zeros(m1)\n",
    "\n",
    "    # create monotone p-values\n",
    "    for i in range(0, m1):\n",
    "        pvm[i] = np.max(pv_orig[0:(i+1)])\n",
    "    alpha = np.concatenate([np.array([0]), pvm])\n",
    "    ng = len(alpha)\n",
    "    \n",
    "    # calculate model size\n",
    "    S = np.zeros(ng)\n",
    "    for j in range(1, ng):\n",
    "        S[j] = sum(pvm <= alpha[j])\n",
    "        \n",
    "    # calculate gamma hat\n",
    "    ghat = (m - S)*alpha/(1 + S)\n",
    "    \n",
    "    # add additional points to make jumps\n",
    "    alpha2 = alpha[1:ng] - 0.0000001\n",
    "    ghat2 = (m - S[0:(ng - 1)])*alpha2/(1 + S[0:(ng - 1)])\n",
    "    zp = pd.DataFrame({'a': np.concatenate([alpha, alpha2]), 'g': np.concatenate([ghat, ghat2])})\n",
    "    zp.sort_values(by =['a', 'g'], ascending = [True, False], inplace = True)\n",
    "    \n",
    "    # largest gamma hat and index\n",
    "    gamma_max = np.argmax(zp['g'])\n",
    "    alpha_max = zp['a'][index_max]\n",
    "\n",
    "    # model size with ghat just below gam0\n",
    "    ind = np.logical_and(ghat <= gam0, alpha <= alphamax)*1\n",
    "    Sind = S[np.max(np.where(ind > 0))]\n",
    "    \n",
    "    # calculate alpha_F\n",
    "    alpha_fast = (1 + Sind)*gam0/(m - Sind)\n",
    "    \n",
    "    # size of model including intercept\n",
    "    size1 = sum(pvm <= alpha_fast) + 1\n",
    "    \n",
    "    # generate plot\n",
    "    plt.plot(zp['a'], zp['g'], marker = 'o', markersize = 6)\n",
    "    plt.ylabel('Estimated Gamma')\n",
    "    plt.xlabel('Alpha')\n",
    "    pass\n",
    "\n",
    "    df1 = pd.DataFrame({'pval': pv_orig, 'pvmax': pvm, 'ghigh': ghat2, 'glow': ghat[1:ng]}, columns = ['pval', 'pvmax', 'ghigh', 'glow'])\n",
    "    print(np.round(df1, digits))\n",
    "    df2 = pd.DataFrame()\n",
    "    print(pd.DataFrame({'m1': m1, 'm': m, 'gam0': gam0, 'size': size1 - 1, 'alphamax': alphamax, 'alpha_fast': alpha_fast}, columns = ['m1', 'm', 'gam0', 'size', 'alphamax', 'alpha_fast'], index=[0]))\n",
    "    \n",
    "    return[np.round(df1, digits), alpha_fast, alphamax, gam0]\n",
    "          "
   ]
  },
  {
   "cell_type": "code",
   "execution_count": 5,
   "metadata": {
    "collapsed": false
   },
   "outputs": [],
   "source": [
    "pv_orig = np.array([0,.0001,.0116,.0053,.0025,.0433,.0527,.1056,.0826,.0536,.2350])\n",
    "m = 19\n",
    "gam0 = 0.05\n",
    "digits = 4"
   ]
  },
  {
   "cell_type": "code",
   "execution_count": 208,
   "metadata": {
    "collapsed": false,
    "scrolled": true
   },
   "outputs": [
    {
     "name": "stdout",
     "output_type": "stream",
     "text": [
      "      pval   pvmax   ghigh    glow\n",
      "0   0.0000  0.0000 -0.0000  0.0000\n",
      "1   0.0001  0.0001  0.0009  0.0006\n",
      "2   0.0116  0.0116  0.0657  0.0271\n",
      "3   0.0053  0.0116  0.0271  0.0271\n",
      "4   0.0025  0.0116  0.0271  0.0271\n",
      "5   0.0433  0.0433  0.1010  0.0804\n",
      "6   0.0527  0.0527  0.0979  0.0790\n",
      "7   0.1056  0.1056  0.1584  0.0864\n",
      "8   0.0826  0.1056  0.0864  0.0864\n",
      "9   0.0536  0.1056  0.0864  0.0864\n",
      "10  0.2350  0.2350  0.1923  0.1567\n",
      "   m1   m  gam0  size  alphamax  alpha_fast\n",
      "0  11  19  0.05     5     0.235    0.021429\n"
     ]
    },
    {
     "data": {
      "image/png": "[encoded data removed]",
      "text/plain": [
       "<matplotlib.figure.Figure at 0x7f2215635b38>"
      ]
     },
     "metadata": {},
     "output_type": "display_data"
    }
   ],
   "source": [
    "fsr = fsr_fast_pv(pv_orig, m)"
   ]
  }
 ],
 "metadata": {
  "kernelspec": {
   "display_name": "Python 3",
   "language": "python",
   "name": "python3"
  },
  "language_info": {
   "codemirror_mode": {
    "name": "ipython",
    "version": 3
   },
   "file_extension": ".py",
   "mimetype": "text/x-python",
   "name": "python",
   "nbconvert_exporter": "python",
   "pygments_lexer": "ipython3",
   "version": "3.5.2"
  }
 },
 "nbformat": 4,
 "nbformat_minor": 2
}
