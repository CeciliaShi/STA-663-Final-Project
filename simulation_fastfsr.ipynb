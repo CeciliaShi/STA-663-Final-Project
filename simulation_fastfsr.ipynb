{
 "cells": [
  {
   "cell_type": "code",
   "execution_count": 1,
   "metadata": {
    "collapsed": false,
    "scrolled": false
   },
   "outputs": [
    {
     "name": "stdout",
     "output_type": "stream",
     "text": [
      "Processing /Users/Cecilia/Desktop/STA 663/project/STA-663-Final-Project/fastfsr\n",
      "  Requirement already satisfied (use --upgrade to upgrade): fastfsr==0.1 from file:///Users/Cecilia/Desktop/STA%20663/project/STA-663-Final-Project/fastfsr in /Users/Cecilia/anaconda/lib/python3.5/site-packages\n"
     ]
    }
   ],
   "source": [
    "!pip install ."
   ]
  },
  {
   "cell_type": "code",
   "execution_count": 9,
   "metadata": {
    "collapsed": false
   },
   "outputs": [
    {
     "name": "stdout",
     "output_type": "stream",
     "text": [
      "Requirement already satisfied: tqdm in /Users/Cecilia/anaconda/lib/python3.5/site-packages\r\n"
     ]
    }
   ],
   "source": [
    "!pip install tqdm"
   ]
  },
  {
   "cell_type": "code",
   "execution_count": 10,
   "metadata": {
    "collapsed": false
   },
   "outputs": [
    {
     "name": "stdout",
     "output_type": "stream",
     "text": [
      "Requirement already satisfied: progress in /Users/Cecilia/anaconda/lib/python3.5/site-packages\r\n"
     ]
    }
   ],
   "source": [
    "!pip install progress"
   ]
  },
  {
   "cell_type": "code",
   "execution_count": 11,
   "metadata": {
    "collapsed": true
   },
   "outputs": [],
   "source": [
    "import fastfsr"
   ]
  },
  {
   "cell_type": "code",
   "execution_count": 12,
   "metadata": {
    "collapsed": true
   },
   "outputs": [],
   "source": [
    "%matplotlib inline\n",
    "import matplotlib as mpl\n",
    "import matplotlib.pyplot as plt\n",
    "import numpy as np\n",
    "import pandas as pd\n",
    "import time\n",
    "from tqdm import *\n",
    "from progress.bar import Bar"
   ]
  },
  {
   "cell_type": "markdown",
   "metadata": {},
   "source": [
    "We followed the simulation mentioned in the paper for model selection in linear regression. There are two 150 $\\times$ 21 design matrices used as input data. The first set was generated independently with $\\rho = 0$ from $N$(0, 1) and the second set was autocorrelated, AR(1) with $\\rho$ = 0.7. In addition to the 21 original variables, the squared of the 21 variables and their pairwise interactions were also added. Hence the number of total variables is $k_T$ = 252. The added variables all have true coefficients equal to 0. \n",
    "\n",
    "The responses were generated from 5 models with the following labels: H0: all $\\beta$s = 0; H1: $\\beta_7$=1, $\\beta_14$=1; H2: $\\beta_6$6=9, $\\beta_7$=4, $\\beta_8$=1, $\\beta_13$=9, $\\beta_14$=4, $\\beta_15$=1; H3:  $\\beta_5$=25,  $\\beta_6$=16,  $\\beta_7$=9,  $\\beta_8$=4,  $\\beta_9$=1, $\\beta_{12}$=25,  $\\beta_{13}$=16,  $\\beta_{14}$=9,  $\\beta_{15}$=4,  $\\beta_{16}$=1; H4: $\\beta_4$=49,  $\\beta_5$ = 36, $\\beta_6$=25,  $\\beta_7$=16,  $\\beta_8$=9,  $\\beta_9$=4,  $\\beta_{10}$=1, $\\beta_{11}$=49,$\\beta_{12}$=36,  $\\beta_{13}$=25,  $\\beta_{14}$=16,  $\\beta_{15}$=9,  $\\beta_{16}$=4,  $\\beta_{17}$=1. The coefficients were standardized to achieve a theoretical $R^2$=0.35. With the known `true model', we can test the accuracy of the models on this simulated data set. The authors posted their simulated data sets publicly online and we used the same data set to check our results.\n",
    "\n",
    "We used several measures to compare the performance among Fast FSR, BIC, and LASSO. These measures include: (1) size: average model size. (2)ME: average model error = $ (1/n)|\\hat{Y}- \\mu|^2$. (3)FSR: average false selection rate = average of (number of unimportant variables selected)$/$(1+ number of total variables selected), and a lower value is preferred. (4) MSE: average error mean square of the chosen model and close to $\\sigma^2$ suggests selection method is tuned. (5) CSR: the average proportion of correctly chosen variables, and a lower value is preferred. (6) JAC: Jaccard's measure that combines FSR and CSR in a particular way, and a lower value is preferred. The Monte Carlo standard errors of the above measures were calculated as well. "
   ]
  },
  {
   "cell_type": "code",
   "execution_count": 13,
   "metadata": {
    "collapsed": true
   },
   "outputs": [],
   "source": [
    "url1 = 'http://www4.stat.ncsu.edu/~boos/var.select/sim/x.quad.0.txt'\n",
    "url2 = 'http://www4.stat.ncsu.edu/~boos/var.select/sim/x.quad.70.txt'\n",
    "url3 = 'http://www4.stat.ncsu.edu/~boos/var.select/sim/h0_0.rs35.txt'\n",
    "url4 = 'http://www4.stat.ncsu.edu/~boos/var.select/sim/h1_0.rs35.txt'\n",
    "url5 = 'http://www4.stat.ncsu.edu/~boos/var.select/sim/h2_0.rs35.txt'\n",
    "url6 = 'http://www4.stat.ncsu.edu/~boos/var.select/sim/h3_0.rs35.txt'\n",
    "url7 = 'http://www4.stat.ncsu.edu/~boos/var.select/sim/h4_0.rs35.txt'\n",
    "url8 = 'http://www4.stat.ncsu.edu/~boos/var.select/sim/h0_70.rs35.txt'\n",
    "url9 = 'http://www4.stat.ncsu.edu/~boos/var.select/sim/h1_70.rs35.txt'\n",
    "url10 = 'http://www4.stat.ncsu.edu/~boos/var.select/sim/h2_70.rs35.txt'\n",
    "url11 = 'http://www4.stat.ncsu.edu/~boos/var.select/sim/h3_70.rs35.txt'\n",
    "url12 = 'http://www4.stat.ncsu.edu/~boos/var.select/sim/h4_70.rs35.txt'\n",
    "\n",
    "# 0 - 20: indepedent standard normal\n",
    "# 21 - 41: squares\n",
    "# 42 - 251: pairwise interactions\n",
    "x1 = pd.read_csv(url1, header = None, delim_whitespace = True)\n",
    "x2 = pd.read_csv(url2, header = None, delim_whitespace = True)\n",
    "\n",
    "# response\n",
    "y1_h0 = pd.read_csv(url3, delim_whitespace = True)\n",
    "y1_h1 = pd.read_csv(url4, delim_whitespace = True)\n",
    "y1_h2 = pd.read_csv(url5, delim_whitespace = True)\n",
    "y1_h3 = pd.read_csv(url6, delim_whitespace = True)\n",
    "y1_h4 = pd.read_csv(url7, delim_whitespace = True)\n",
    "\n",
    "y2_h0 = pd.read_csv(url8, delim_whitespace = True)\n",
    "y2_h1 = pd.read_csv(url9, delim_whitespace = True)\n",
    "y2_h2 = pd.read_csv(url10, delim_whitespace = True)\n",
    "y2_h3 = pd.read_csv(url11, delim_whitespace = True)\n",
    "y2_h4 = pd.read_csv(url12, delim_whitespace = True)"
   ]
  },
  {
   "cell_type": "code",
   "execution_count": 14,
   "metadata": {
    "collapsed": false
   },
   "outputs": [],
   "source": [
    "# simulation\n",
    "x1_matrix = x1.ix[:,0:20]\n",
    "x2_matrix = x2.ix[:,0:20]\n",
    "hbeta = np.zeros((5, 14))\n",
    "\n",
    "# true betas for five models\n",
    "hbeta[0,:] = np.repeat(-1, 14)\n",
    "hbeta[1,:] = np.concatenate([np.array([6, 13]), np.repeat(-1, 12)])\n",
    "hbeta[2,:] = np.concatenate([np.array([5, 6, 7, 12, 13, 14]), np.repeat(-1, 8)])\n",
    "hbeta[3,:] = np.concatenate([np.array([4, 5, 6, 7, 8, 11, 12, 13, 14, 15]), np.repeat(-1, 4)])\n",
    "hbeta[4,:] = np.array([3, 4, 5, 6, 7, 8, 9, 10, 11, 12, 13, 14, 15, 16])"
   ]
  },
  {
   "cell_type": "code",
   "execution_count": 15,
   "metadata": {
    "collapsed": true
   },
   "outputs": [],
   "source": [
    "def simulation(x, y, model):\n",
    "    \"\"\"function that can perform simulation for all three models\"\"\"\n",
    "    res = np.zeros((5, 14))\n",
    "    me_out = np.zeros((100, 4))\n",
    "    me_out1_21 = np.zeros((100, 4, 5))\n",
    "    me_out2_21 = np.zeros((100, 4, 5))\n",
    "    jac = np.zeros(100)\n",
    "    data = y\n",
    "    for m in range(5):\n",
    "        hdata = data[m]\n",
    "        hdata_y = np.array(hdata.ix[:,2]).reshape([100, 150])\n",
    "        mu = hdata.ix[0:149,1]                                     # true means\n",
    "        beta = hbeta[m,:]\n",
    "        \n",
    "        for i in tqdm(range(100)):\n",
    "            out_bic = model(x, hdata_y[i,:])\n",
    "            size = out_bic['size']                                 # number of fitted x's\n",
    "            correct = len(np.intersect1d(out_bic['index'], beta))  # number correct\n",
    "            false = size - correct                                 # number false\n",
    "            me_out[i, 0] = np.mean((out_bic['fitted'] - mu)**2)    # model error\n",
    "            me_out[i, 1] = size\n",
    "            me_out[i, 2] = false\n",
    "            me_out[i, 3] = out_bic['residual']/out_bic['df_residual']\n",
    "        \n",
    "        me_out1_21[:,:,1] = np.round(me_out, 4)\n",
    "        model_size = sum(beta != -1)                               # true model size\n",
    "     \n",
    "        for i in range(100):\n",
    "            if me_out[i, 2] + model_size > 0:\n",
    "                jac[i] = (me_out[i, 1] - me_out[i, 2])/(me_out[i, 2] + model_size)\n",
    "            else:\n",
    "                jac[i] = 1\n",
    "        res[m, 0] = 0                                              # rho\n",
    "        res[m, 1] = m                                              # model h0, h1\n",
    "        res[m, 2] = np.mean(me_out[:,1])                           # model size\n",
    "        res[m, 3] = np.std(me_out[:,1]/10)                         # se of the mean\n",
    "        res[m, 4] = np.mean(me_out[:,0])                           # me\n",
    "        res[m, 5] = np.std(me_out[:,0])/10\n",
    "        res[m, 6] = np.mean(me_out[:,2]/(1 + me_out[:,1]))         # fsr\n",
    "        res[m, 7] = np.std(me_out[:,2]/(1 + me_out[:,1]))/10\n",
    "        res[m, 8] = np.mean(me_out[:,3])                           # mse of selected model\n",
    "        res[m, 9] = np.std(me_out[:,3])/10\n",
    "        if model_size > 0:\n",
    "            csr = (me_out[:,1] - me_out[:,2])/model_size\n",
    "        else:\n",
    "            csr = np.ones(100)\n",
    "        res[m, 10] = np.mean(csr)\n",
    "        res[m, 11] = np.std(csr)/10\n",
    "        res[m, 12] = np.mean(jac)\n",
    "        res[m, 13] = np.std(jac)/10\n",
    "    return np.round(pd.DataFrame({'rho': res[:,0], 'H': res[:,1], 'size': res[:,2], 'me': res[:,4], \n",
    "                     'fsr_mr': res[:,6], 'mse': res[:,8], 'csr': res[:,10], 'jac': res[:,12],\n",
    "                     'se_size': res[:,3], 'se_me': res[:,5], 'se_fsr': res[:,7], 'se_mse': res[:,9],\n",
    "                     'se_csr': res[:,11], 'se_jac': res[:,13]}), 3)"
   ]
  },
  {
   "cell_type": "markdown",
   "metadata": {},
   "source": [
    "## Fast FSR"
   ]
  },
  {
   "cell_type": "code",
   "execution_count": 18,
   "metadata": {
    "collapsed": false,
    "scrolled": false
   },
   "outputs": [
    {
     "name": "stderr",
     "output_type": "stream",
     "text": [
      "100%|██████████| 100/100 [00:30<00:00,  3.72it/s]\n",
      "100%|██████████| 100/100 [00:31<00:00,  3.56it/s]\n",
      "100%|██████████| 100/100 [00:33<00:00,  3.31it/s]\n",
      "100%|██████████| 100/100 [00:28<00:00,  3.50it/s]\n",
      "100%|██████████| 100/100 [00:30<00:00,  3.59it/s]\n"
     ]
    },
    {
     "data": {
      "text/html": [
       "<div>\n",
       "<table border=\"1\" class=\"dataframe\">\n",
       "  <thead>\n",
       "    <tr style=\"text-align: right;\">\n",
       "      <th></th>\n",
       "      <th>H</th>\n",
       "      <th>csr</th>\n",
       "      <th>fsr_mr</th>\n",
       "      <th>jac</th>\n",
       "      <th>me</th>\n",
       "      <th>mse</th>\n",
       "      <th>rho</th>\n",
       "      <th>se_csr</th>\n",
       "      <th>se_fsr</th>\n",
       "      <th>se_jac</th>\n",
       "      <th>se_me</th>\n",
       "      <th>se_mse</th>\n",
       "      <th>se_size</th>\n",
       "      <th>size</th>\n",
       "    </tr>\n",
       "  </thead>\n",
       "  <tbody>\n",
       "    <tr>\n",
       "      <th>0</th>\n",
       "      <td>0.0</td>\n",
       "      <td>1.000</td>\n",
       "      <td>0.062</td>\n",
       "      <td>0.880</td>\n",
       "      <td>0.015</td>\n",
       "      <td>0.975</td>\n",
       "      <td>0.0</td>\n",
       "      <td>0.000</td>\n",
       "      <td>0.017</td>\n",
       "      <td>0.032</td>\n",
       "      <td>0.003</td>\n",
       "      <td>0.011</td>\n",
       "      <td>0.042</td>\n",
       "      <td>0.14</td>\n",
       "    </tr>\n",
       "    <tr>\n",
       "      <th>1</th>\n",
       "      <td>1.0</td>\n",
       "      <td>1.000</td>\n",
       "      <td>0.048</td>\n",
       "      <td>0.937</td>\n",
       "      <td>0.031</td>\n",
       "      <td>1.000</td>\n",
       "      <td>0.0</td>\n",
       "      <td>0.000</td>\n",
       "      <td>0.011</td>\n",
       "      <td>0.014</td>\n",
       "      <td>0.003</td>\n",
       "      <td>0.013</td>\n",
       "      <td>0.050</td>\n",
       "      <td>2.21</td>\n",
       "    </tr>\n",
       "    <tr>\n",
       "      <th>2</th>\n",
       "      <td>2.0</td>\n",
       "      <td>0.537</td>\n",
       "      <td>0.055</td>\n",
       "      <td>0.512</td>\n",
       "      <td>0.089</td>\n",
       "      <td>0.988</td>\n",
       "      <td>0.0</td>\n",
       "      <td>0.014</td>\n",
       "      <td>0.010</td>\n",
       "      <td>0.014</td>\n",
       "      <td>0.005</td>\n",
       "      <td>0.011</td>\n",
       "      <td>0.115</td>\n",
       "      <td>3.54</td>\n",
       "    </tr>\n",
       "    <tr>\n",
       "      <th>3</th>\n",
       "      <td>3.0</td>\n",
       "      <td>0.424</td>\n",
       "      <td>0.050</td>\n",
       "      <td>0.408</td>\n",
       "      <td>0.132</td>\n",
       "      <td>1.016</td>\n",
       "      <td>0.0</td>\n",
       "      <td>0.012</td>\n",
       "      <td>0.009</td>\n",
       "      <td>0.011</td>\n",
       "      <td>0.007</td>\n",
       "      <td>0.012</td>\n",
       "      <td>0.164</td>\n",
       "      <td>4.61</td>\n",
       "    </tr>\n",
       "    <tr>\n",
       "      <th>4</th>\n",
       "      <td>4.0</td>\n",
       "      <td>0.409</td>\n",
       "      <td>0.033</td>\n",
       "      <td>0.401</td>\n",
       "      <td>0.155</td>\n",
       "      <td>1.021</td>\n",
       "      <td>0.0</td>\n",
       "      <td>0.010</td>\n",
       "      <td>0.006</td>\n",
       "      <td>0.010</td>\n",
       "      <td>0.006</td>\n",
       "      <td>0.013</td>\n",
       "      <td>0.161</td>\n",
       "      <td>5.99</td>\n",
       "    </tr>\n",
       "  </tbody>\n",
       "</table>\n",
       "</div>"
      ],
      "text/plain": [
       "     H    csr  fsr_mr    jac     me    mse  rho  se_csr  se_fsr  se_jac  \\\n",
       "0  0.0  1.000   0.062  0.880  0.015  0.975  0.0   0.000   0.017   0.032   \n",
       "1  1.0  1.000   0.048  0.937  0.031  1.000  0.0   0.000   0.011   0.014   \n",
       "2  2.0  0.537   0.055  0.512  0.089  0.988  0.0   0.014   0.010   0.014   \n",
       "3  3.0  0.424   0.050  0.408  0.132  1.016  0.0   0.012   0.009   0.011   \n",
       "4  4.0  0.409   0.033  0.401  0.155  1.021  0.0   0.010   0.006   0.010   \n",
       "\n",
       "   se_me  se_mse  se_size  size  \n",
       "0  0.003   0.011    0.042  0.14  \n",
       "1  0.003   0.013    0.050  2.21  \n",
       "2  0.005   0.011    0.115  3.54  \n",
       "3  0.007   0.012    0.164  4.61  \n",
       "4  0.006   0.013    0.161  5.99  "
      ]
     },
     "execution_count": 18,
     "metadata": {},
     "output_type": "execute_result"
    }
   ],
   "source": [
    "res_fsr1 = simulation(x1_matrix, [y1_h0, y1_h1, y1_h2, y1_h3, y1_h4], fastfsr.fsr_fast)\n",
    "res_fsr1"
   ]
  },
  {
   "cell_type": "code",
   "execution_count": 19,
   "metadata": {
    "collapsed": false
   },
   "outputs": [
    {
     "name": "stderr",
     "output_type": "stream",
     "text": [
      "100%|██████████| 100/100 [00:35<00:00,  2.86it/s]\n",
      "100%|██████████| 100/100 [00:33<00:00,  3.25it/s]\n",
      "100%|██████████| 100/100 [00:37<00:00,  2.27it/s]\n",
      "100%|██████████| 100/100 [00:32<00:00,  3.60it/s]\n",
      "100%|██████████| 100/100 [00:29<00:00,  3.34it/s]\n"
     ]
    },
    {
     "data": {
      "text/html": [
       "<div>\n",
       "<table border=\"1\" class=\"dataframe\">\n",
       "  <thead>\n",
       "    <tr style=\"text-align: right;\">\n",
       "      <th></th>\n",
       "      <th>H</th>\n",
       "      <th>csr</th>\n",
       "      <th>fsr_mr</th>\n",
       "      <th>jac</th>\n",
       "      <th>me</th>\n",
       "      <th>mse</th>\n",
       "      <th>rho</th>\n",
       "      <th>se_csr</th>\n",
       "      <th>se_fsr</th>\n",
       "      <th>se_jac</th>\n",
       "      <th>se_me</th>\n",
       "      <th>se_mse</th>\n",
       "      <th>se_size</th>\n",
       "      <th>size</th>\n",
       "    </tr>\n",
       "  </thead>\n",
       "  <tbody>\n",
       "    <tr>\n",
       "      <th>0</th>\n",
       "      <td>0.0</td>\n",
       "      <td>1.000</td>\n",
       "      <td>0.047</td>\n",
       "      <td>0.910</td>\n",
       "      <td>0.011</td>\n",
       "      <td>1.009</td>\n",
       "      <td>0.0</td>\n",
       "      <td>0.000</td>\n",
       "      <td>0.015</td>\n",
       "      <td>0.029</td>\n",
       "      <td>0.002</td>\n",
       "      <td>0.010</td>\n",
       "      <td>0.033</td>\n",
       "      <td>0.10</td>\n",
       "    </tr>\n",
       "    <tr>\n",
       "      <th>1</th>\n",
       "      <td>1.0</td>\n",
       "      <td>0.985</td>\n",
       "      <td>0.053</td>\n",
       "      <td>0.921</td>\n",
       "      <td>0.036</td>\n",
       "      <td>0.999</td>\n",
       "      <td>0.0</td>\n",
       "      <td>0.009</td>\n",
       "      <td>0.011</td>\n",
       "      <td>0.017</td>\n",
       "      <td>0.004</td>\n",
       "      <td>0.013</td>\n",
       "      <td>0.050</td>\n",
       "      <td>2.19</td>\n",
       "    </tr>\n",
       "    <tr>\n",
       "      <th>2</th>\n",
       "      <td>2.0</td>\n",
       "      <td>0.363</td>\n",
       "      <td>0.070</td>\n",
       "      <td>0.348</td>\n",
       "      <td>0.075</td>\n",
       "      <td>0.987</td>\n",
       "      <td>0.0</td>\n",
       "      <td>0.007</td>\n",
       "      <td>0.012</td>\n",
       "      <td>0.007</td>\n",
       "      <td>0.004</td>\n",
       "      <td>0.011</td>\n",
       "      <td>0.066</td>\n",
       "      <td>2.48</td>\n",
       "    </tr>\n",
       "    <tr>\n",
       "      <th>3</th>\n",
       "      <td>3.0</td>\n",
       "      <td>0.244</td>\n",
       "      <td>0.041</td>\n",
       "      <td>0.240</td>\n",
       "      <td>0.114</td>\n",
       "      <td>1.014</td>\n",
       "      <td>0.0</td>\n",
       "      <td>0.007</td>\n",
       "      <td>0.009</td>\n",
       "      <td>0.007</td>\n",
       "      <td>0.004</td>\n",
       "      <td>0.012</td>\n",
       "      <td>0.078</td>\n",
       "      <td>2.62</td>\n",
       "    </tr>\n",
       "    <tr>\n",
       "      <th>4</th>\n",
       "      <td>4.0</td>\n",
       "      <td>0.210</td>\n",
       "      <td>0.038</td>\n",
       "      <td>0.208</td>\n",
       "      <td>0.124</td>\n",
       "      <td>1.014</td>\n",
       "      <td>0.0</td>\n",
       "      <td>0.007</td>\n",
       "      <td>0.009</td>\n",
       "      <td>0.007</td>\n",
       "      <td>0.004</td>\n",
       "      <td>0.013</td>\n",
       "      <td>0.099</td>\n",
       "      <td>3.12</td>\n",
       "    </tr>\n",
       "  </tbody>\n",
       "</table>\n",
       "</div>"
      ],
      "text/plain": [
       "     H    csr  fsr_mr    jac     me    mse  rho  se_csr  se_fsr  se_jac  \\\n",
       "0  0.0  1.000   0.047  0.910  0.011  1.009  0.0   0.000   0.015   0.029   \n",
       "1  1.0  0.985   0.053  0.921  0.036  0.999  0.0   0.009   0.011   0.017   \n",
       "2  2.0  0.363   0.070  0.348  0.075  0.987  0.0   0.007   0.012   0.007   \n",
       "3  3.0  0.244   0.041  0.240  0.114  1.014  0.0   0.007   0.009   0.007   \n",
       "4  4.0  0.210   0.038  0.208  0.124  1.014  0.0   0.007   0.009   0.007   \n",
       "\n",
       "   se_me  se_mse  se_size  size  \n",
       "0  0.002   0.010    0.033  0.10  \n",
       "1  0.004   0.013    0.050  2.19  \n",
       "2  0.004   0.011    0.066  2.48  \n",
       "3  0.004   0.012    0.078  2.62  \n",
       "4  0.004   0.013    0.099  3.12  "
      ]
     },
     "execution_count": 19,
     "metadata": {},
     "output_type": "execute_result"
    }
   ],
   "source": [
    "res_fsr2 = simulation(x2_matrix, [y2_h0, y2_h1, y2_h2, y2_h3, y2_h4], fastfsr.fsr_fast)\n",
    "res_fsr2"
   ]
  },
  {
   "cell_type": "markdown",
   "metadata": {},
   "source": [
    "In addition to Fast FSR, we also ran  BIC and LASSO on the data sets and compared the results of the three models. In the originally paper, the authors used the R package leaps for best subset selection. However, there does not exist corresponding package or function in Python and hence we also implemented a regression subset selection. The other method LASSO and cross validation was computed with the package scikit-learn."
   ]
  },
  {
   "cell_type": "markdown",
   "metadata": {},
   "source": [
    "## BIC"
   ]
  },
  {
   "cell_type": "code",
   "execution_count": 20,
   "metadata": {
    "collapsed": false
   },
   "outputs": [
    {
     "name": "stderr",
     "output_type": "stream",
     "text": [
      "100%|██████████| 100/100 [00:22<00:00,  4.52it/s]\n",
      "100%|██████████| 100/100 [00:22<00:00,  3.66it/s]\n",
      "100%|██████████| 100/100 [00:22<00:00,  4.41it/s]\n",
      "100%|██████████| 100/100 [00:22<00:00,  4.49it/s]\n",
      "100%|██████████| 100/100 [00:22<00:00,  4.11it/s]\n"
     ]
    },
    {
     "data": {
      "text/html": [
       "<div>\n",
       "<table border=\"1\" class=\"dataframe\">\n",
       "  <thead>\n",
       "    <tr style=\"text-align: right;\">\n",
       "      <th></th>\n",
       "      <th>H</th>\n",
       "      <th>csr</th>\n",
       "      <th>fsr_mr</th>\n",
       "      <th>jac</th>\n",
       "      <th>me</th>\n",
       "      <th>mse</th>\n",
       "      <th>rho</th>\n",
       "      <th>se_csr</th>\n",
       "      <th>se_fsr</th>\n",
       "      <th>se_jac</th>\n",
       "      <th>se_me</th>\n",
       "      <th>se_mse</th>\n",
       "      <th>se_size</th>\n",
       "      <th>size</th>\n",
       "    </tr>\n",
       "  </thead>\n",
       "  <tbody>\n",
       "    <tr>\n",
       "      <th>0</th>\n",
       "      <td>0.0</td>\n",
       "      <td>1.000</td>\n",
       "      <td>0.243</td>\n",
       "      <td>0.560</td>\n",
       "      <td>0.033</td>\n",
       "      <td>0.960</td>\n",
       "      <td>0.0</td>\n",
       "      <td>0.000</td>\n",
       "      <td>0.028</td>\n",
       "      <td>0.050</td>\n",
       "      <td>0.004</td>\n",
       "      <td>0.012</td>\n",
       "      <td>0.088</td>\n",
       "      <td>0.62</td>\n",
       "    </tr>\n",
       "    <tr>\n",
       "      <th>1</th>\n",
       "      <td>1.0</td>\n",
       "      <td>1.000</td>\n",
       "      <td>0.132</td>\n",
       "      <td>0.829</td>\n",
       "      <td>0.045</td>\n",
       "      <td>0.989</td>\n",
       "      <td>0.0</td>\n",
       "      <td>0.000</td>\n",
       "      <td>0.015</td>\n",
       "      <td>0.020</td>\n",
       "      <td>0.003</td>\n",
       "      <td>0.013</td>\n",
       "      <td>0.072</td>\n",
       "      <td>2.58</td>\n",
       "    </tr>\n",
       "    <tr>\n",
       "      <th>2</th>\n",
       "      <td>2.0</td>\n",
       "      <td>0.572</td>\n",
       "      <td>0.091</td>\n",
       "      <td>0.532</td>\n",
       "      <td>0.088</td>\n",
       "      <td>0.975</td>\n",
       "      <td>0.0</td>\n",
       "      <td>0.013</td>\n",
       "      <td>0.012</td>\n",
       "      <td>0.014</td>\n",
       "      <td>0.005</td>\n",
       "      <td>0.011</td>\n",
       "      <td>0.106</td>\n",
       "      <td>3.95</td>\n",
       "    </tr>\n",
       "    <tr>\n",
       "      <th>3</th>\n",
       "      <td>3.0</td>\n",
       "      <td>0.449</td>\n",
       "      <td>0.065</td>\n",
       "      <td>0.431</td>\n",
       "      <td>0.123</td>\n",
       "      <td>1.005</td>\n",
       "      <td>0.0</td>\n",
       "      <td>0.010</td>\n",
       "      <td>0.009</td>\n",
       "      <td>0.010</td>\n",
       "      <td>0.006</td>\n",
       "      <td>0.011</td>\n",
       "      <td>0.128</td>\n",
       "      <td>4.94</td>\n",
       "    </tr>\n",
       "    <tr>\n",
       "      <th>4</th>\n",
       "      <td>4.0</td>\n",
       "      <td>0.419</td>\n",
       "      <td>0.036</td>\n",
       "      <td>0.411</td>\n",
       "      <td>0.153</td>\n",
       "      <td>1.016</td>\n",
       "      <td>0.0</td>\n",
       "      <td>0.009</td>\n",
       "      <td>0.007</td>\n",
       "      <td>0.009</td>\n",
       "      <td>0.006</td>\n",
       "      <td>0.013</td>\n",
       "      <td>0.139</td>\n",
       "      <td>6.15</td>\n",
       "    </tr>\n",
       "  </tbody>\n",
       "</table>\n",
       "</div>"
      ],
      "text/plain": [
       "     H    csr  fsr_mr    jac     me    mse  rho  se_csr  se_fsr  se_jac  \\\n",
       "0  0.0  1.000   0.243  0.560  0.033  0.960  0.0   0.000   0.028   0.050   \n",
       "1  1.0  1.000   0.132  0.829  0.045  0.989  0.0   0.000   0.015   0.020   \n",
       "2  2.0  0.572   0.091  0.532  0.088  0.975  0.0   0.013   0.012   0.014   \n",
       "3  3.0  0.449   0.065  0.431  0.123  1.005  0.0   0.010   0.009   0.010   \n",
       "4  4.0  0.419   0.036  0.411  0.153  1.016  0.0   0.009   0.007   0.009   \n",
       "\n",
       "   se_me  se_mse  se_size  size  \n",
       "0  0.004   0.012    0.088  0.62  \n",
       "1  0.003   0.013    0.072  2.58  \n",
       "2  0.005   0.011    0.106  3.95  \n",
       "3  0.006   0.011    0.128  4.94  \n",
       "4  0.006   0.013    0.139  6.15  "
      ]
     },
     "execution_count": 20,
     "metadata": {},
     "output_type": "execute_result"
    }
   ],
   "source": [
    "res_bic1 = simulation(x1_matrix, [y1_h0, y1_h1, y1_h2, y1_h3, y1_h4], fastfsr.bic_sim)\n",
    "res_bic1"
   ]
  },
  {
   "cell_type": "code",
   "execution_count": 21,
   "metadata": {
    "collapsed": false
   },
   "outputs": [
    {
     "name": "stderr",
     "output_type": "stream",
     "text": [
      "100%|██████████| 100/100 [00:23<00:00,  4.62it/s]\n",
      "100%|██████████| 100/100 [00:21<00:00,  4.60it/s]\n",
      "100%|██████████| 100/100 [00:28<00:00,  3.20it/s]\n",
      "100%|██████████| 100/100 [00:30<00:00,  4.40it/s]\n",
      "100%|██████████| 100/100 [00:22<00:00,  4.48it/s]\n"
     ]
    },
    {
     "data": {
      "text/html": [
       "<div>\n",
       "<table border=\"1\" class=\"dataframe\">\n",
       "  <thead>\n",
       "    <tr style=\"text-align: right;\">\n",
       "      <th></th>\n",
       "      <th>H</th>\n",
       "      <th>csr</th>\n",
       "      <th>fsr_mr</th>\n",
       "      <th>jac</th>\n",
       "      <th>me</th>\n",
       "      <th>mse</th>\n",
       "      <th>rho</th>\n",
       "      <th>se_csr</th>\n",
       "      <th>se_fsr</th>\n",
       "      <th>se_jac</th>\n",
       "      <th>se_me</th>\n",
       "      <th>se_mse</th>\n",
       "      <th>se_size</th>\n",
       "      <th>size</th>\n",
       "    </tr>\n",
       "  </thead>\n",
       "  <tbody>\n",
       "    <tr>\n",
       "      <th>0</th>\n",
       "      <td>0.0</td>\n",
       "      <td>1.000</td>\n",
       "      <td>0.208</td>\n",
       "      <td>0.640</td>\n",
       "      <td>0.029</td>\n",
       "      <td>0.995</td>\n",
       "      <td>0.0</td>\n",
       "      <td>0.000</td>\n",
       "      <td>0.028</td>\n",
       "      <td>0.048</td>\n",
       "      <td>0.003</td>\n",
       "      <td>0.010</td>\n",
       "      <td>0.084</td>\n",
       "      <td>0.55</td>\n",
       "    </tr>\n",
       "    <tr>\n",
       "      <th>1</th>\n",
       "      <td>1.0</td>\n",
       "      <td>0.990</td>\n",
       "      <td>0.109</td>\n",
       "      <td>0.854</td>\n",
       "      <td>0.044</td>\n",
       "      <td>0.991</td>\n",
       "      <td>0.0</td>\n",
       "      <td>0.007</td>\n",
       "      <td>0.015</td>\n",
       "      <td>0.020</td>\n",
       "      <td>0.004</td>\n",
       "      <td>0.013</td>\n",
       "      <td>0.068</td>\n",
       "      <td>2.45</td>\n",
       "    </tr>\n",
       "    <tr>\n",
       "      <th>2</th>\n",
       "      <td>2.0</td>\n",
       "      <td>0.402</td>\n",
       "      <td>0.128</td>\n",
       "      <td>0.373</td>\n",
       "      <td>0.080</td>\n",
       "      <td>0.971</td>\n",
       "      <td>0.0</td>\n",
       "      <td>0.010</td>\n",
       "      <td>0.014</td>\n",
       "      <td>0.011</td>\n",
       "      <td>0.004</td>\n",
       "      <td>0.011</td>\n",
       "      <td>0.073</td>\n",
       "      <td>2.98</td>\n",
       "    </tr>\n",
       "    <tr>\n",
       "      <th>3</th>\n",
       "      <td>3.0</td>\n",
       "      <td>0.277</td>\n",
       "      <td>0.067</td>\n",
       "      <td>0.270</td>\n",
       "      <td>0.109</td>\n",
       "      <td>0.999</td>\n",
       "      <td>0.0</td>\n",
       "      <td>0.008</td>\n",
       "      <td>0.011</td>\n",
       "      <td>0.008</td>\n",
       "      <td>0.004</td>\n",
       "      <td>0.012</td>\n",
       "      <td>0.091</td>\n",
       "      <td>3.09</td>\n",
       "    </tr>\n",
       "    <tr>\n",
       "      <th>4</th>\n",
       "      <td>4.0</td>\n",
       "      <td>0.241</td>\n",
       "      <td>0.055</td>\n",
       "      <td>0.237</td>\n",
       "      <td>0.112</td>\n",
       "      <td>0.997</td>\n",
       "      <td>0.0</td>\n",
       "      <td>0.007</td>\n",
       "      <td>0.010</td>\n",
       "      <td>0.007</td>\n",
       "      <td>0.004</td>\n",
       "      <td>0.012</td>\n",
       "      <td>0.102</td>\n",
       "      <td>3.66</td>\n",
       "    </tr>\n",
       "  </tbody>\n",
       "</table>\n",
       "</div>"
      ],
      "text/plain": [
       "     H    csr  fsr_mr    jac     me    mse  rho  se_csr  se_fsr  se_jac  \\\n",
       "0  0.0  1.000   0.208  0.640  0.029  0.995  0.0   0.000   0.028   0.048   \n",
       "1  1.0  0.990   0.109  0.854  0.044  0.991  0.0   0.007   0.015   0.020   \n",
       "2  2.0  0.402   0.128  0.373  0.080  0.971  0.0   0.010   0.014   0.011   \n",
       "3  3.0  0.277   0.067  0.270  0.109  0.999  0.0   0.008   0.011   0.008   \n",
       "4  4.0  0.241   0.055  0.237  0.112  0.997  0.0   0.007   0.010   0.007   \n",
       "\n",
       "   se_me  se_mse  se_size  size  \n",
       "0  0.003   0.010    0.084  0.55  \n",
       "1  0.004   0.013    0.068  2.45  \n",
       "2  0.004   0.011    0.073  2.98  \n",
       "3  0.004   0.012    0.091  3.09  \n",
       "4  0.004   0.012    0.102  3.66  "
      ]
     },
     "execution_count": 21,
     "metadata": {},
     "output_type": "execute_result"
    }
   ],
   "source": [
    "res_bic2 = simulation(x2_matrix, [y2_h0, y2_h1, y2_h2, y2_h3, y2_h4], fastfsr.bic_sim)\n",
    "res_bic2"
   ]
  },
  {
   "cell_type": "markdown",
   "metadata": {},
   "source": [
    "## LASSO"
   ]
  },
  {
   "cell_type": "code",
   "execution_count": 22,
   "metadata": {
    "collapsed": false
   },
   "outputs": [
    {
     "name": "stderr",
     "output_type": "stream",
     "text": [
      "100%|██████████| 100/100 [00:01<00:00, 74.63it/s]\n",
      "100%|██████████| 100/100 [00:01<00:00, 76.20it/s]\n",
      "100%|██████████| 100/100 [00:01<00:00, 85.89it/s]\n",
      "100%|██████████| 100/100 [00:01<00:00, 84.48it/s]\n",
      "100%|██████████| 100/100 [00:01<00:00, 84.61it/s]\n"
     ]
    },
    {
     "data": {
      "text/html": [
       "<div>\n",
       "<table border=\"1\" class=\"dataframe\">\n",
       "  <thead>\n",
       "    <tr style=\"text-align: right;\">\n",
       "      <th></th>\n",
       "      <th>H</th>\n",
       "      <th>csr</th>\n",
       "      <th>fsr_mr</th>\n",
       "      <th>jac</th>\n",
       "      <th>me</th>\n",
       "      <th>mse</th>\n",
       "      <th>rho</th>\n",
       "      <th>se_csr</th>\n",
       "      <th>se_fsr</th>\n",
       "      <th>se_jac</th>\n",
       "      <th>se_me</th>\n",
       "      <th>se_mse</th>\n",
       "      <th>se_size</th>\n",
       "      <th>size</th>\n",
       "    </tr>\n",
       "  </thead>\n",
       "  <tbody>\n",
       "    <tr>\n",
       "      <th>0</th>\n",
       "      <td>0.0</td>\n",
       "      <td>1.000</td>\n",
       "      <td>0.690</td>\n",
       "      <td>0.000</td>\n",
       "      <td>0.016</td>\n",
       "      <td>0.973</td>\n",
       "      <td>0.0</td>\n",
       "      <td>0.000</td>\n",
       "      <td>0.014</td>\n",
       "      <td>0.000</td>\n",
       "      <td>0.002</td>\n",
       "      <td>0.011</td>\n",
       "      <td>0.379</td>\n",
       "      <td>3.45</td>\n",
       "    </tr>\n",
       "    <tr>\n",
       "      <th>1</th>\n",
       "      <td>1.0</td>\n",
       "      <td>1.000</td>\n",
       "      <td>0.422</td>\n",
       "      <td>0.489</td>\n",
       "      <td>0.064</td>\n",
       "      <td>1.035</td>\n",
       "      <td>0.0</td>\n",
       "      <td>0.000</td>\n",
       "      <td>0.016</td>\n",
       "      <td>0.017</td>\n",
       "      <td>0.003</td>\n",
       "      <td>0.013</td>\n",
       "      <td>0.143</td>\n",
       "      <td>4.55</td>\n",
       "    </tr>\n",
       "    <tr>\n",
       "      <th>2</th>\n",
       "      <td>2.0</td>\n",
       "      <td>0.697</td>\n",
       "      <td>0.269</td>\n",
       "      <td>0.531</td>\n",
       "      <td>0.105</td>\n",
       "      <td>1.039</td>\n",
       "      <td>0.0</td>\n",
       "      <td>0.012</td>\n",
       "      <td>0.012</td>\n",
       "      <td>0.013</td>\n",
       "      <td>0.004</td>\n",
       "      <td>0.011</td>\n",
       "      <td>0.132</td>\n",
       "      <td>6.22</td>\n",
       "    </tr>\n",
       "    <tr>\n",
       "      <th>3</th>\n",
       "      <td>3.0</td>\n",
       "      <td>0.580</td>\n",
       "      <td>0.175</td>\n",
       "      <td>0.506</td>\n",
       "      <td>0.139</td>\n",
       "      <td>1.088</td>\n",
       "      <td>0.0</td>\n",
       "      <td>0.011</td>\n",
       "      <td>0.012</td>\n",
       "      <td>0.011</td>\n",
       "      <td>0.005</td>\n",
       "      <td>0.011</td>\n",
       "      <td>0.157</td>\n",
       "      <td>7.38</td>\n",
       "    </tr>\n",
       "    <tr>\n",
       "      <th>4</th>\n",
       "      <td>4.0</td>\n",
       "      <td>0.537</td>\n",
       "      <td>0.083</td>\n",
       "      <td>0.507</td>\n",
       "      <td>0.178</td>\n",
       "      <td>1.126</td>\n",
       "      <td>0.0</td>\n",
       "      <td>0.010</td>\n",
       "      <td>0.008</td>\n",
       "      <td>0.009</td>\n",
       "      <td>0.005</td>\n",
       "      <td>0.013</td>\n",
       "      <td>0.168</td>\n",
       "      <td>8.37</td>\n",
       "    </tr>\n",
       "  </tbody>\n",
       "</table>\n",
       "</div>"
      ],
      "text/plain": [
       "     H    csr  fsr_mr    jac     me    mse  rho  se_csr  se_fsr  se_jac  \\\n",
       "0  0.0  1.000   0.690  0.000  0.016  0.973  0.0   0.000   0.014   0.000   \n",
       "1  1.0  1.000   0.422  0.489  0.064  1.035  0.0   0.000   0.016   0.017   \n",
       "2  2.0  0.697   0.269  0.531  0.105  1.039  0.0   0.012   0.012   0.013   \n",
       "3  3.0  0.580   0.175  0.506  0.139  1.088  0.0   0.011   0.012   0.011   \n",
       "4  4.0  0.537   0.083  0.507  0.178  1.126  0.0   0.010   0.008   0.009   \n",
       "\n",
       "   se_me  se_mse  se_size  size  \n",
       "0  0.002   0.011    0.379  3.45  \n",
       "1  0.003   0.013    0.143  4.55  \n",
       "2  0.004   0.011    0.132  6.22  \n",
       "3  0.005   0.011    0.157  7.38  \n",
       "4  0.005   0.013    0.168  8.37  "
      ]
     },
     "execution_count": 22,
     "metadata": {},
     "output_type": "execute_result"
    }
   ],
   "source": [
    "res_lasso1 = simulation(x1_matrix, [y1_h0, y1_h1, y1_h2, y1_h3, y1_h4], fastfsr.lasso_fit)\n",
    "res_lasso1"
   ]
  },
  {
   "cell_type": "code",
   "execution_count": 23,
   "metadata": {
    "collapsed": false
   },
   "outputs": [
    {
     "name": "stderr",
     "output_type": "stream",
     "text": [
      "100%|██████████| 100/100 [00:01<00:00, 76.82it/s]\n",
      "100%|██████████| 100/100 [00:01<00:00, 77.94it/s]\n",
      "100%|██████████| 100/100 [00:01<00:00, 80.64it/s]\n",
      "100%|██████████| 100/100 [00:01<00:00, 80.31it/s]\n",
      "100%|██████████| 100/100 [00:01<00:00, 79.37it/s]\n"
     ]
    },
    {
     "data": {
      "text/html": [
       "<div>\n",
       "<table border=\"1\" class=\"dataframe\">\n",
       "  <thead>\n",
       "    <tr style=\"text-align: right;\">\n",
       "      <th></th>\n",
       "      <th>H</th>\n",
       "      <th>csr</th>\n",
       "      <th>fsr_mr</th>\n",
       "      <th>jac</th>\n",
       "      <th>me</th>\n",
       "      <th>mse</th>\n",
       "      <th>rho</th>\n",
       "      <th>se_csr</th>\n",
       "      <th>se_fsr</th>\n",
       "      <th>se_jac</th>\n",
       "      <th>se_me</th>\n",
       "      <th>se_mse</th>\n",
       "      <th>se_size</th>\n",
       "      <th>size</th>\n",
       "    </tr>\n",
       "  </thead>\n",
       "  <tbody>\n",
       "    <tr>\n",
       "      <th>0</th>\n",
       "      <td>0.0</td>\n",
       "      <td>1.000</td>\n",
       "      <td>0.675</td>\n",
       "      <td>0.000</td>\n",
       "      <td>0.017</td>\n",
       "      <td>1.009</td>\n",
       "      <td>0.0</td>\n",
       "      <td>0.000</td>\n",
       "      <td>0.014</td>\n",
       "      <td>0.000</td>\n",
       "      <td>0.002</td>\n",
       "      <td>0.010</td>\n",
       "      <td>0.479</td>\n",
       "      <td>3.79</td>\n",
       "    </tr>\n",
       "    <tr>\n",
       "      <th>1</th>\n",
       "      <td>1.0</td>\n",
       "      <td>1.000</td>\n",
       "      <td>0.420</td>\n",
       "      <td>0.490</td>\n",
       "      <td>0.058</td>\n",
       "      <td>1.035</td>\n",
       "      <td>0.0</td>\n",
       "      <td>0.000</td>\n",
       "      <td>0.016</td>\n",
       "      <td>0.017</td>\n",
       "      <td>0.004</td>\n",
       "      <td>0.013</td>\n",
       "      <td>0.142</td>\n",
       "      <td>4.53</td>\n",
       "    </tr>\n",
       "    <tr>\n",
       "      <th>2</th>\n",
       "      <td>2.0</td>\n",
       "      <td>0.662</td>\n",
       "      <td>0.271</td>\n",
       "      <td>0.509</td>\n",
       "      <td>0.064</td>\n",
       "      <td>1.006</td>\n",
       "      <td>0.0</td>\n",
       "      <td>0.015</td>\n",
       "      <td>0.016</td>\n",
       "      <td>0.016</td>\n",
       "      <td>0.003</td>\n",
       "      <td>0.011</td>\n",
       "      <td>0.167</td>\n",
       "      <td>6.06</td>\n",
       "    </tr>\n",
       "    <tr>\n",
       "      <th>3</th>\n",
       "      <td>3.0</td>\n",
       "      <td>0.578</td>\n",
       "      <td>0.167</td>\n",
       "      <td>0.510</td>\n",
       "      <td>0.077</td>\n",
       "      <td>1.028</td>\n",
       "      <td>0.0</td>\n",
       "      <td>0.011</td>\n",
       "      <td>0.012</td>\n",
       "      <td>0.011</td>\n",
       "      <td>0.003</td>\n",
       "      <td>0.011</td>\n",
       "      <td>0.151</td>\n",
       "      <td>7.26</td>\n",
       "    </tr>\n",
       "    <tr>\n",
       "      <th>4</th>\n",
       "      <td>4.0</td>\n",
       "      <td>0.500</td>\n",
       "      <td>0.107</td>\n",
       "      <td>0.467</td>\n",
       "      <td>0.079</td>\n",
       "      <td>1.035</td>\n",
       "      <td>0.0</td>\n",
       "      <td>0.010</td>\n",
       "      <td>0.009</td>\n",
       "      <td>0.009</td>\n",
       "      <td>0.003</td>\n",
       "      <td>0.012</td>\n",
       "      <td>0.167</td>\n",
       "      <td>8.02</td>\n",
       "    </tr>\n",
       "  </tbody>\n",
       "</table>\n",
       "</div>"
      ],
      "text/plain": [
       "     H    csr  fsr_mr    jac     me    mse  rho  se_csr  se_fsr  se_jac  \\\n",
       "0  0.0  1.000   0.675  0.000  0.017  1.009  0.0   0.000   0.014   0.000   \n",
       "1  1.0  1.000   0.420  0.490  0.058  1.035  0.0   0.000   0.016   0.017   \n",
       "2  2.0  0.662   0.271  0.509  0.064  1.006  0.0   0.015   0.016   0.016   \n",
       "3  3.0  0.578   0.167  0.510  0.077  1.028  0.0   0.011   0.012   0.011   \n",
       "4  4.0  0.500   0.107  0.467  0.079  1.035  0.0   0.010   0.009   0.009   \n",
       "\n",
       "   se_me  se_mse  se_size  size  \n",
       "0  0.002   0.010    0.479  3.79  \n",
       "1  0.004   0.013    0.142  4.53  \n",
       "2  0.003   0.011    0.167  6.06  \n",
       "3  0.003   0.011    0.151  7.26  \n",
       "4  0.003   0.012    0.167  8.02  "
      ]
     },
     "execution_count": 23,
     "metadata": {},
     "output_type": "execute_result"
    }
   ],
   "source": [
    "res_lasso2 = simulation(x2_matrix, [y2_h0, y2_h1, y2_h2, y2_h3, y2_h4], fastfsr.lasso_fit)\n",
    "res_lasso2"
   ]
  },
  {
   "cell_type": "markdown",
   "metadata": {},
   "source": [
    "## Model Comparison"
   ]
  },
  {
   "cell_type": "markdown",
   "metadata": {},
   "source": [
    "####  False Selection Rate"
   ]
  },
  {
   "cell_type": "code",
   "execution_count": 25,
   "metadata": {
    "collapsed": false
   },
   "outputs": [
    {
     "data": {
      "image/png": "[encoded data removed]",
      "text/plain": [
       "<matplotlib.figure.Figure at 0x1182732b0>"
      ]
     },
     "metadata": {},
     "output_type": "display_data"
    }
   ],
   "source": [
    "xlabel = [1, 2, 3, 4, 5]\n",
    "xlabel_name = ['H0', 'H1', 'H2', 'H3', 'H4']\n",
    "\n",
    "fig, ax = plt.subplots(figsize = (6, 5)) \n",
    "fig.autofmt_xdate()\n",
    "plt.plot(xlabel, res_bic1['fsr_mr'], marker = 'o', markersize = 4, \n",
    "         color = 'blue', linestyle = 'solid',\n",
    "         label = 'BIC')\n",
    "\n",
    "plt.plot(xlabel, res_fsr1['fsr_mr'], marker = 'o', markersize = 4, \n",
    "         color = 'green', linestyle = 'solid',\n",
    "         label = 'Fast FSR')\n",
    "\n",
    "plt.plot(xlabel, res_lasso1['fsr_mr'], marker = 'o', markersize = 4, \n",
    "         color = 'purple', linestyle = 'solid',\n",
    "         label = 'LASSO')\n",
    "\n",
    "plt.legend(loc='upper right')\n",
    "ax.set_ylabel('FSR', fontsize = 16)\n",
    "ax.set_title('FSR Rates rho = 0')\n",
    "plt.xticks(xlabel, xlabel_name)\n",
    "pass"
   ]
  },
  {
   "cell_type": "code",
   "execution_count": 26,
   "metadata": {
    "collapsed": false,
    "scrolled": true
   },
   "outputs": [
    {
     "data": {
      "image/png": "[encoded data removed]",
      "text/plain": [
       "<matplotlib.figure.Figure at 0x11ad1ce48>"
      ]
     },
     "metadata": {},
     "output_type": "display_data"
    }
   ],
   "source": [
    "xlabel = [1, 2, 3, 4, 5]\n",
    "xlabel_name = ['H0', 'H1', 'H2', 'H3', 'H4']\n",
    "\n",
    "fig, ax = plt.subplots(figsize = (6, 5)) \n",
    "fig.autofmt_xdate()\n",
    "plt.plot(xlabel, res_bic2['fsr_mr'], marker = 'o', markersize = 4, \n",
    "         color = 'blue', linestyle = 'solid',\n",
    "         label = 'BIC')\n",
    "\n",
    "plt.plot(xlabel, res_fsr2['fsr_mr'], marker = 'o', markersize = 4, \n",
    "         color = 'green', linestyle = 'solid',\n",
    "         label = 'Fast FSR')\n",
    "\n",
    "plt.plot(xlabel, res_lasso2['fsr_mr'], marker = 'o', markersize = 4, \n",
    "         color = 'purple', linestyle = 'solid',\n",
    "         label = 'LASSO')\n",
    "\n",
    "plt.legend(loc='upper right')\n",
    "ax.set_ylabel('FSR', fontsize = 16)\n",
    "ax.set_title('FSR Rates rho = 0.7')\n",
    "plt.xticks(xlabel, xlabel_name)\n",
    "pass"
   ]
  },
  {
   "cell_type": "markdown",
   "metadata": {},
   "source": [
    "#### Correct Selection Rate"
   ]
  },
  {
   "cell_type": "code",
   "execution_count": 27,
   "metadata": {
    "collapsed": false,
    "scrolled": true
   },
   "outputs": [
    {
     "data": {
      "image/png": "[encoded data removed]",
      "text/plain": [
       "<matplotlib.figure.Figure at 0x11b4e75f8>"
      ]
     },
     "metadata": {},
     "output_type": "display_data"
    }
   ],
   "source": [
    "xlabel = [1, 2, 3, 4, 5]\n",
    "xlabel_name = ['H0', 'H1', 'H2', 'H3', 'H4']\n",
    "\n",
    "fig, ax = plt.subplots(figsize = (6, 5)) \n",
    "fig.autofmt_xdate()\n",
    "plt.plot(xlabel, res_bic1['csr'], marker = 'o', markersize = 4, \n",
    "         color = 'blue', linestyle = 'solid',\n",
    "         label = 'BIC')\n",
    "\n",
    "plt.plot(xlabel, res_fsr1['csr'], marker = 'o', markersize = 4, \n",
    "         color = 'green', linestyle = 'solid',\n",
    "         label = 'Fast FSR')\n",
    "\n",
    "plt.plot(xlabel, res_lasso1['csr'], marker = 'o', markersize = 4, \n",
    "         color = 'purple', linestyle = 'solid',\n",
    "         label = 'LASSO')\n",
    "\n",
    "plt.legend(loc='upper right')\n",
    "ax.set_ylabel('CSR', fontsize = 16)\n",
    "ax.set_title('CSR Rates rho = 0')\n",
    "plt.xticks(xlabel, xlabel_name)\n",
    "plt.ylim([0,1.05])\n",
    "pass\n"
   ]
  },
  {
   "cell_type": "markdown",
   "metadata": {},
   "source": [
    "#### Average Model Size"
   ]
  },
  {
   "cell_type": "code",
   "execution_count": 28,
   "metadata": {
    "collapsed": false
   },
   "outputs": [
    {
     "data": {
      "image/png": "[encoded data removed]",
      "text/plain": [
       "<matplotlib.figure.Figure at 0x11b71c588>"
      ]
     },
     "metadata": {},
     "output_type": "display_data"
    }
   ],
   "source": [
    "xlabel = [1, 2, 3, 4, 5]\n",
    "xlabel_name = ['H0', 'H1', 'H2', 'H3', 'H4']\n",
    "\n",
    "fig, ax = plt.subplots(figsize = (6, 5)) \n",
    "fig.autofmt_xdate()\n",
    "plt.plot(xlabel, res_bic1['size'], marker = 'o', markersize = 4, \n",
    "         color = 'blue', linestyle = 'solid',\n",
    "         label = 'BIC')\n",
    "\n",
    "plt.plot(xlabel, res_fsr1['size'], marker = 'o', markersize = 4, \n",
    "         color = 'green', linestyle = 'solid',\n",
    "         label = 'Fast FSR')\n",
    "\n",
    "plt.plot(xlabel, res_lasso1['size'], marker = 'o', markersize = 4, \n",
    "         color = 'purple', linestyle = 'solid',\n",
    "         label = 'LASSO')\n",
    "\n",
    "plt.legend(loc='lower right')\n",
    "ax.set_ylabel('Model Size', fontsize = 16)\n",
    "ax.set_title('Model Size rho = 0')\n",
    "plt.xticks(xlabel, xlabel_name)\n",
    "pass"
   ]
  },
  {
   "cell_type": "markdown",
   "metadata": {},
   "source": [
    "As can be seen, Fast FSR leads to a small and stable FSR across all 5 models, and is close to the advertised 0.05 FSR. The other two methods BIC and LASSO have much larger FSR. It is also noted that the FSR for BIC and LASSO decreases as the number of nonzero $\\beta$s in the model increases. CSR is complementary to FSR, and together with the model size provides a full picture of the  model selection characteristics of the each method.\n",
    "\n",
    "As can be seen, Fast FSR leads to a small and stable FSR across all 5 models, and is close to the advertised 0.05 FSR. The other two methods BIC and LASSO have much larger FSR. It is also noted that the FSR for BIC and LASSO decreases as the number of nonzero $\\beta$s in the model increases. CSR is complementary to FSR, and together with the model size provides a full picture of the  model selection characteristics of the each method."
   ]
  },
  {
   "cell_type": "code",
   "execution_count": null,
   "metadata": {
    "collapsed": true
   },
   "outputs": [],
   "source": []
  }
 ],
 "metadata": {
  "anaconda-cloud": {},
  "kernelspec": {
   "display_name": "Python [default]",
   "language": "python",
   "name": "python3"
  },
  "language_info": {
   "codemirror_mode": {
    "name": "ipython",
    "version": 3
   },
   "file_extension": ".py",
   "mimetype": "text/x-python",
   "name": "python",
   "nbconvert_exporter": "python",
   "pygments_lexer": "ipython3",
   "version": "3.5.2"
  }
 },
 "nbformat": 4,
 "nbformat_minor": 1
}
