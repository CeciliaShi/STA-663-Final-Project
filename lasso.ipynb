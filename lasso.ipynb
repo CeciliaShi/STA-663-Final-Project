{
 "cells": [
  {
   "cell_type": "code",
   "execution_count": 1,
   "metadata": {
    "collapsed": true
   },
   "outputs": [],
   "source": [
    "import pandas as pd\n",
    "import numpy as np\n",
    "import sklearn.linear_model as sl"
   ]
  },
  {
   "cell_type": "code",
   "execution_count": null,
   "metadata": {
    "collapsed": true
   },
   "outputs": [],
   "source": [
    "ncaa = pd.read_csv(\"http://www4.stat.ncsu.edu/~boos/var.select/ncaa.data2.txt\", \n",
    "                   delim_whitespace = True)\n",
    "x = ncaa.ix[:,:-1]\n",
    "y = ncaa.ix[:,-1]\n",
    "x.head()"
   ]
  },
  {
   "cell_type": "code",
   "execution_count": 23,
   "metadata": {
    "collapsed": false
   },
   "outputs": [],
   "source": [
    "def lasso_fit(x, y):\n",
    "    \n",
    "    # fit lasso\n",
    "    ls = sl.Lasso(alpha = 1)\n",
    "    ls.fit(x,y)\n",
    "    index = np.array(range(len(ls.coef_)))[ls.coef_!=0]\n",
    "    size = len(index)\n",
    "    \n",
    "    # find the index and fitted values\n",
    "    if size == 0:\n",
    "        lm = sl.LinearRegression()\n",
    "        intercept = pd.DataFrame(np.ones(x.shape[0]))\n",
    "        lm.fit(intercept, y)\n",
    "        fitted = lm.predict(intercept)\n",
    "    else:\n",
    "        fitted = ls.predict(x)\n",
    "        \n",
    "    # get residuals\n",
    "    residual = sum((y-fitted)**2)\n",
    "    df_residual = x.shape[0] - size - 1\n",
    "    \n",
    "    return {'fitted':fitted, 'residual':residual, 'df_residual':df_residual, \n",
    "            'size':size, 'index': index}      "
   ]
  },
  {
   "cell_type": "code",
   "execution_count": 26,
   "metadata": {
    "collapsed": false
   },
   "outputs": [
    {
     "data": {
      "text/plain": [
       "{'df_residual': 77,\n",
       " 'fitted': array([  39.15387506,   54.44514934,   60.2690025 ,   51.50487132,\n",
       "          52.19425497,   54.07906602,   57.94751104,   87.26778125,\n",
       "          59.43978926,   63.33699442,   56.32032066,   63.95500562,\n",
       "          57.17213294,   57.4693216 ,  100.83829793,   49.57407432,\n",
       "          49.66598269,   61.07947287,   60.46919291,   34.77680774,\n",
       "          70.00334803,   73.22914128,   45.16420727,   41.01356508,\n",
       "          79.48087663,   60.63923003,   53.71029924,   58.11683079,\n",
       "          57.31844889,   54.53743384,   51.5228619 ,   50.1115018 ,\n",
       "          36.64177603,   50.8808068 ,   36.63756677,   60.82856146,\n",
       "          34.89846821,   61.98327267,   68.96320063,   79.30588601,\n",
       "          62.36706102,   55.26044761,   54.57726053,   53.03318163,\n",
       "          64.38729853,   56.67039049,   59.85556636,   56.55902114,\n",
       "          36.91989819,   74.55904346,   96.92419003,   60.41158668,\n",
       "          59.62227803,   47.54085959,   55.63919465,   44.48364803,\n",
       "          49.83977826,   71.89250391,   62.93215021,   69.18678433,\n",
       "          82.82622633,   74.11724979,   45.96063986,   46.85020382,\n",
       "          35.2930734 ,   59.22749917,   59.4336986 ,  102.08911218,\n",
       "          67.06715827,   63.72565214,   52.16583262,   56.45834259,\n",
       "          27.75683269,   62.76291054,   69.00446541,   52.60178139,\n",
       "          38.76000017,   67.22177818,   59.62242218,   67.3471108 ,\n",
       "          70.75146253,   69.43614929,   37.36238125,   42.7262439 ,\n",
       "          87.01292182,   85.49683246,   67.27831116,   49.70243786,\n",
       "          84.17924408,   59.41620511,   59.91229697,   49.38495118,\n",
       "          64.83672923,   47.40351253]),\n",
       " 'index': array([ 0,  1,  2,  3,  4,  5,  7,  9, 10, 11, 12, 14, 15, 16, 17, 18]),\n",
       " 'residual': 4048.9998346497678,\n",
       " 'size': 16}"
      ]
     },
     "execution_count": 26,
     "metadata": {},
     "output_type": "execute_result"
    }
   ],
   "source": [
    "lasso_fit(x,y)"
   ]
  },
  {
   "cell_type": "code",
   "execution_count": null,
   "metadata": {
    "collapsed": true
   },
   "outputs": [],
   "source": []
  }
 ],
 "metadata": {
  "anaconda-cloud": {},
  "kernelspec": {
   "display_name": "Python [Root]",
   "language": "python",
   "name": "Python [Root]"
  },
  "language_info": {
   "codemirror_mode": {
    "name": "ipython",
    "version": 3
   },
   "file_extension": ".py",
   "mimetype": "text/x-python",
   "name": "python",
   "nbconvert_exporter": "python",
   "pygments_lexer": "ipython3",
   "version": "3.5.2"
  }
 },
 "nbformat": 4,
 "nbformat_minor": 0
}
