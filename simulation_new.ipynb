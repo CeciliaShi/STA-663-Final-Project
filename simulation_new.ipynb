{
 "cells": [
  {
   "cell_type": "code",
   "execution_count": 32,
   "metadata": {
    "collapsed": false
   },
   "outputs": [],
   "source": [
    "import numpy as np\n",
    "import pandas as pd\n",
    "import string\n",
    "import sklearn.linear_model as sl\n",
    "import scipy.stats as st\n",
    "import time\n",
    "from tqdm import *\n",
    "from progress.bar import Bar\n"
   ]
  },
  {
   "cell_type": "code",
   "execution_count": 2,
   "metadata": {
    "collapsed": true
   },
   "outputs": [],
   "source": [
    "url1 = 'http://www4.stat.ncsu.edu/~boos/var.select/sim/x.quad.0.txt'\n",
    "url2 = 'http://www4.stat.ncsu.edu/~boos/var.select/sim/x.quad.70.txt'\n",
    "url3 = 'http://www4.stat.ncsu.edu/~boos/var.select/sim/h0_0.rs35.txt'\n",
    "url4 = 'http://www4.stat.ncsu.edu/~boos/var.select/sim/h1_0.rs35.txt'\n",
    "url5 = 'http://www4.stat.ncsu.edu/~boos/var.select/sim/h2_0.rs35.txt'\n",
    "url6 = 'http://www4.stat.ncsu.edu/~boos/var.select/sim/h3_0.rs35.txt'\n",
    "url7 = 'http://www4.stat.ncsu.edu/~boos/var.select/sim/h4_0.rs35.txt'\n",
    "url8 = 'http://www4.stat.ncsu.edu/~boos/var.select/sim/h0_70.rs35.txt'\n",
    "url9 = 'http://www4.stat.ncsu.edu/~boos/var.select/sim/h1_70.rs35.txt'\n",
    "url10 = 'http://www4.stat.ncsu.edu/~boos/var.select/sim/h2_70.rs35.txt'\n",
    "url11 = 'http://www4.stat.ncsu.edu/~boos/var.select/sim/h3_70.rs35.txt'\n",
    "url12 = 'http://www4.stat.ncsu.edu/~boos/var.select/sim/h4_70.rs35.txt'\n",
    "\n",
    "# 0 - 20: indepedent standard normal\n",
    "# 21 - 41: squares\n",
    "# 42 - 251: pairwise interactions\n",
    "x1 = pd.read_csv(url1, header = None, delim_whitespace = True)\n",
    "x2 = pd.read_csv(url2, header = None, delim_whitespace = True)\n",
    "\n",
    "# response\n",
    "y1_h0 = pd.read_csv(url3, delim_whitespace = True)\n",
    "y1_h1 = pd.read_csv(url4, delim_whitespace = True)\n",
    "y1_h2 = pd.read_csv(url5, delim_whitespace = True)\n",
    "y1_h3 = pd.read_csv(url6, delim_whitespace = True)\n",
    "y1_h4 = pd.read_csv(url7, delim_whitespace = True)\n",
    "\n",
    "y2_h0 = pd.read_csv(url8, delim_whitespace = True)\n",
    "y2_h1 = pd.read_csv(url9, delim_whitespace = True)\n",
    "y2_h2 = pd.read_csv(url10, delim_whitespace = True)\n",
    "y2_h3 = pd.read_csv(url11, delim_whitespace = True)\n",
    "y2_h4 = pd.read_csv(url12, delim_whitespace = True)"
   ]
  },
  {
   "cell_type": "code",
   "execution_count": 3,
   "metadata": {
    "collapsed": true
   },
   "outputs": [],
   "source": [
    "def reg_subset(x,y):\n",
    "    lm = sl.LinearRegression()\n",
    "    \n",
    "    in_ = []\n",
    "    out_ = list(range(x.shape[1]))\n",
    "    rss = [sum((y-np.mean(y))**2)]\n",
    "    (n,m) = x.shape\n",
    "    \n",
    "    if(m>=n):\n",
    "        ml = n-5\n",
    "    else:\n",
    "        ml = m   \n",
    "    vm = np.array(range(ml))\n",
    "\n",
    "    for pi in range(x.shape[1]):\n",
    "        rss_find = []\n",
    "        for i in out_:\n",
    "            fit_X = pd.DataFrame(x.ix[:, in_ + [i]])\n",
    "            lm.fit(fit_X, y)\n",
    "            pred = lm.predict(fit_X)\n",
    "            rss_find.append(sum((pred-y)**2))\n",
    "        min_rss = np.min(rss_find)\n",
    "        min_var = out_[rss_find.index(min_rss)]\n",
    "        rss.append(min_rss)\n",
    "        in_.append(min_var)\n",
    "        del out_[rss_find.index(min_rss)]\n",
    "        in_var = [x.columns[i] for i in in_]\n",
    "    rss = np.array(rss)\n",
    "    pv_org = 1 - st.f.cdf((rss[vm] - rss[vm+1])*(n-(vm+2))/rss[vm+1],\n",
    "                     1,n-(vm+2))\n",
    "    return (np.array(in_),np.array(in_var),rss, pv_org)"
   ]
  },
  {
   "cell_type": "code",
   "execution_count": 4,
   "metadata": {
    "collapsed": true
   },
   "outputs": [],
   "source": [
    "def gic(rss, m, n, z):\n",
    "    \"\"\"gic gives model size including intercept of min BIC model\"\"\"\n",
    "    t1 = z*np.arange(2, m + 3) + n*np.log(rss/n) + n + 2*n*np.log(np.sqrt(2*np.pi))\n",
    "    t2 = np.argmin(t1) + 1\n",
    "    return(t2)"
   ]
  },
  {
   "cell_type": "code",
   "execution_count": 5,
   "metadata": {
    "collapsed": true
   },
   "outputs": [],
   "source": [
    "def bic_sim(x, y):\n",
    "    \"\"\"chooses from FAS using minimum BIC\"\"\"\n",
    "    lm = sl.LinearRegression()\n",
    "    (n,m) = x.shape\n",
    "    out_x = reg_subset(x, y)\n",
    "    rss = out_x[2]\n",
    "    vorder = out_x[0]\n",
    "    if m > n:\n",
    "        rss = rss[0:60]\n",
    "        m = 60\n",
    "    # model size including intercept\n",
    "    bic = gic(rss, m, n, np.log(n))\n",
    "    if bic > 1:\n",
    "        index = vorder[0:bic - 1]\n",
    "        x = x.ix[:,index]\n",
    "        x_ind = index\n",
    "    else:\n",
    "        x_ind = 0\n",
    "    if bic == 1:\n",
    "        intercept = pd.DataFrame(np.ones(n))\n",
    "        mod = lm.fit(intercept, y)  \n",
    "        fitted = lm.predict(intercept)\n",
    "        residual = sum((y - fitted)**2)\n",
    "        df_residual = n - (bic - 1) - 1\n",
    "    else:\n",
    "        mod = lm.fit(x, y)\n",
    "        fitted = lm.predict(x)\n",
    "        residual = sum((y - fitted)**2)\n",
    "        df_residual = n - (bic - 1) - 1\n",
    "    return dict({'fitted': fitted, 'residual': residual, 'df_residual': df_residual, 'size': bic - 1, 'index': x_ind + 1})"
   ]
  },
  {
   "cell_type": "code",
   "execution_count": 6,
   "metadata": {
    "collapsed": true
   },
   "outputs": [],
   "source": [
    "# bic simulation\n",
    "x1_matrix = x1.ix[:,0:20]\n",
    "x2_matrix = x2.ix[:,0:20]\n",
    "hbeta = np.zeros((5, 14))\n",
    "hbeta[0,:] = np.repeat(-1, 14)\n",
    "hbeta[1,:] = np.concatenate([np.array([7, 14]), np.repeat(-1, 12)])\n",
    "hbeta[2,:] = np.concatenate([np.array([6, 7, 8, 13, 14, 15]), np.repeat(-1, 8)])\n",
    "hbeta[3,:] = np.concatenate([np.array([5, 6, 7, 8, 9, 12, 13, 14, 15, 16]), np.repeat(-1, 4)])\n",
    "hbeta[4,:] = np.array([4, 5, 6, 7, 8, 9, 10, 11, 12, 13, 14, 15, 16, 17])"
   ]
  },
  {
   "cell_type": "code",
   "execution_count": 48,
   "metadata": {
    "collapsed": false,
    "scrolled": false
   },
   "outputs": [
    {
     "name": "stderr",
     "output_type": "stream",
     "text": [
      "100%|██████████| 100/100 [00:26<00:00,  4.19it/s]\n",
      "100%|██████████| 100/100 [00:24<00:00,  4.26it/s]\n",
      "100%|██████████| 100/100 [00:25<00:00,  4.08it/s]\n",
      "100%|██████████| 100/100 [00:23<00:00,  3.37it/s]\n",
      "100%|██████████| 100/100 [00:23<00:00,  4.17it/s]\n"
     ]
    }
   ],
   "source": [
    "# x.quad.0\n",
    "res = np.zeros((5, 14))\n",
    "me_out = np.zeros((100, 4))\n",
    "me_out1_21 = np.zeros((100, 4, 5))\n",
    "me_out2_21 = np.zeros((100, 4, 5))\n",
    "jac = np.zeros(100)\n",
    "data = [y1_h0, y1_h1, y1_h2, y1_h3, y1_h4]\n",
    "for m in range(5):\n",
    "    hdata = data[m]\n",
    "    hdata_y = np.array(hdata.ix[:,2]).reshape([100, 150])\n",
    "    mu = hdata.ix[0:149,1]                                     # true means\n",
    "    beta = hbeta[m,:]\n",
    "    \n",
    "    for i in tqdm(range(100)):\n",
    "        out_bic = bic_sim(x1_matrix, hdata_y[i,:])\n",
    "        size = out_bic['size']                                 # number of fitted x's\n",
    "        correct = len(np.intersect1d(out_bic['index'], beta))  # number correct\n",
    "        false = size - correct                                 # number false\n",
    "        me_out[i, 0] = np.mean((out_bic['fitted'] - mu)**2)    # model error\n",
    "        me_out[i, 1] = size\n",
    "        me_out[i, 2] = false\n",
    "        me_out[i, 3] = out_bic['residual']/out_bic['df_residual']\n",
    "    \n",
    "    me_out1_21[:,:,1] = np.round(me_out, 4)\n",
    "    model_size = sum(beta != -1)                               # true model size\n",
    "     \n",
    "    for i in range(100):\n",
    "        if me_out[i, 2] + model_size > 0:\n",
    "            jac[i] = (me_out[i, 1] - me_out[i, 2])/(me_out[i, 2] + model_size)\n",
    "        else:\n",
    "            jac[i] = 1\n",
    "    res[m, 0] = 0                                              # rho\n",
    "    res[m, 1] = m                                              # model h0, h1\n",
    "    res[m, 2] = np.mean(me_out[:,1])                           # model size\n",
    "    res[m, 3] = np.std(me_out[:,1]/10)                         # se of the mean\n",
    "    res[m, 4] = np.mean(me_out[:,0])                           # me\n",
    "    res[m, 5] = np.std(me_out[:,0])/10\n",
    "    res[m, 6] = np.mean(me_out[:,2]/(1 + me_out[:,1]))         # fsr\n",
    "    res[m, 7] = np.std(me_out[:,2]/(1 + me_out[:,1]))/10\n",
    "    res[m, 8] = np.mean(me_out[:,3])                           # mse of selected model\n",
    "    res[m, 9] = np.std(me_out[:,3])/10\n",
    "    if model_size > 0:\n",
    "        csr = (me_out[:,1] - me_out[:,2])/model_size\n",
    "    else:\n",
    "        csr = np.ones(100)\n",
    "    res[m, 10] = np.mean(csr)\n",
    "    res[m, 11] = np.std(csr)/10\n",
    "    res[m, 12] = np.mean(jac)\n",
    "    res[m, 13] = np.std(jac)/10"
   ]
  },
  {
   "cell_type": "code",
   "execution_count": 23,
   "metadata": {
    "collapsed": false,
    "scrolled": true
   },
   "outputs": [
    {
     "name": "stdout",
     "output_type": "stream",
     "text": [
      "     H    csr  fsr_mr    jac     me    mse  rho  se_csr  se_fsr  se_jac  \\\n",
      "0  0.0  1.000   0.243  0.560  0.033  0.960  0.0   0.000   0.028   0.050   \n",
      "1  1.0  1.000   0.132  0.829  0.045  0.989  0.0   0.000   0.015   0.020   \n",
      "2  2.0  0.572   0.091  0.532  0.088  0.975  0.0   0.013   0.012   0.014   \n",
      "3  3.0  0.449   0.065  0.431  0.123  1.005  0.0   0.010   0.009   0.010   \n",
      "4  4.0  0.419   0.036  0.411  0.153  1.016  0.0   0.009   0.007   0.009   \n",
      "\n",
      "   se_me  se_mse  se_size  size  \n",
      "0  0.004   0.012    0.088  0.62  \n",
      "1  0.003   0.013    0.072  2.58  \n",
      "2  0.005   0.011    0.106  3.95  \n",
      "3  0.006   0.011    0.128  4.94  \n",
      "4  0.006   0.013    0.139  6.15  \n"
     ]
    }
   ],
   "source": [
    "bic1 = pd.DataFrame({'rho': res[:,0], 'H': res[:,1], 'size': res[:,2], 'me': res[:,4], \n",
    "                     'fsr_mr': res[:,6], 'mse': res[:,8], 'csr': res[:,10], 'jac': res[:,12],\n",
    "                     'se_size': res[:,3], 'se_me': res[:,5], 'se_fsr': res[:,7], 'se_mse': res[:,9],\n",
    "                     'se_csr': res[:,11], 'se_jac': res[:,13]})\n",
    "print(np.round(bic1, 3))"
   ]
  },
  {
   "cell_type": "code",
   "execution_count": 46,
   "metadata": {
    "collapsed": false
   },
   "outputs": [
    {
     "name": "stderr",
     "output_type": "stream",
     "text": [
      "100%|██████████| 100/100 [00:26<00:00,  4.22it/s]\n",
      "100%|██████████| 100/100 [00:26<00:00,  4.28it/s]\n",
      "100%|██████████| 100/100 [00:23<00:00,  4.25it/s]\n",
      "100%|██████████| 100/100 [00:23<00:00,  4.21it/s]\n",
      "100%|██████████| 100/100 [00:24<00:00,  4.02it/s]\n"
     ]
    }
   ],
   "source": [
    "# x.quad.70\n",
    "res = np.zeros((5, 14))\n",
    "me_out = np.zeros((100, 4))\n",
    "me_out1_21 = np.zeros((100, 4, 5))\n",
    "me_out2_21 = np.zeros((100, 4, 5))\n",
    "jac = np.zeros(100)\n",
    "data = [y2_h0, y2_h1, y2_h2, y2_h3, y2_h4]\n",
    "for m in range(5):\n",
    "    hdata = data[m]\n",
    "    hdata_y = np.array(hdata.ix[:,2]).reshape([100, 150])\n",
    "    mu = hdata.ix[0:149,1]                                     # true means\n",
    "    beta = hbeta[m,:]\n",
    "    \n",
    "    for i in tqdm(range(100)):\n",
    "        out_bic = bic_sim(x2_matrix, hdata_y[i,:])\n",
    "        size = out_bic['size']                                 # number of fitted x's\n",
    "        correct = len(np.intersect1d(out_bic['index'], beta))  # number correct\n",
    "        false = size - correct                                 # number false\n",
    "        me_out[i, 0] = np.mean((out_bic['fitted'] - mu)**2)    # model error\n",
    "        me_out[i, 1] = size\n",
    "        me_out[i, 2] = false\n",
    "        me_out[i, 3] = out_bic['residual']/out_bic['df_residual']\n",
    "    \n",
    "    me_out1_21[:,:,1] = np.round(me_out, 4)\n",
    "    model_size = sum(beta != -1)                               # true model size\n",
    "     \n",
    "    for i in range(100):\n",
    "        if me_out[i, 2] + model_size > 0:\n",
    "            jac[i] = (me_out[i, 1] - me_out[i, 2])/(me_out[i, 2] + model_size)\n",
    "        else:\n",
    "            jac[i] = 1\n",
    "    res[m, 0] = 0.7                                          # rho\n",
    "    res[m, 1] = m                                       # model h0, h1\n",
    "    res[m, 2] = np.mean(me_out[:,1])                      # model size\n",
    "    res[m, 3] = np.std(me_out[:,1]/10)                     # se of the mean\n",
    "    res[m, 4] = np.mean(me_out[:,0])                      # me\n",
    "    res[m, 5] = np.std(me_out[:,0])/10\n",
    "    res[m, 6] = np.mean(me_out[:,2]/(1 + me_out[:,1]))       # fsr\n",
    "    res[m, 7] = np.std(me_out[:,2]/(1 + me_out[:,1]))/10\n",
    "    res[m, 8] = np.mean(me_out[:,3])                         # mse of selected model\n",
    "    res[m, 9] = np.std(me_out[:,3])/10\n",
    "    if model_size > 0:\n",
    "        csr = (me_out[:,1] - me_out[:,2])/model_size\n",
    "    else:\n",
    "        csr = np.ones(100)\n",
    "    res[m, 10] = np.mean(csr)\n",
    "    res[m, 11] = np.std(csr)/10\n",
    "    res[m, 12] = np.mean(jac)\n",
    "    res[m, 13] = np.std(jac)/10"
   ]
  },
  {
   "cell_type": "code",
   "execution_count": 26,
   "metadata": {
    "collapsed": false
   },
   "outputs": [
    {
     "name": "stdout",
     "output_type": "stream",
     "text": [
      "     H    csr  fsr_mr    jac     me    mse  rho  se_csr  se_fsr  se_jac  \\\n",
      "0  0.0  1.000   0.208  0.640  0.029  0.995  0.0   0.000   0.028   0.048   \n",
      "1  1.0  0.990   0.109  0.854  0.044  0.991  0.0   0.007   0.015   0.020   \n",
      "2  2.0  0.402   0.128  0.373  0.080  0.971  0.0   0.010   0.014   0.011   \n",
      "3  3.0  0.277   0.067  0.270  0.109  0.999  0.0   0.008   0.011   0.008   \n",
      "4  4.0  0.241   0.055  0.237  0.112  0.997  0.0   0.007   0.010   0.007   \n",
      "\n",
      "   se_me  se_mse  se_size  size  \n",
      "0  0.003   0.010    0.084  0.55  \n",
      "1  0.004   0.013    0.068  2.45  \n",
      "2  0.004   0.011    0.073  2.98  \n",
      "3  0.004   0.012    0.091  3.09  \n",
      "4  0.004   0.012    0.102  3.66  \n"
     ]
    }
   ],
   "source": [
    "bic2 = pd.DataFrame({'rho': res[:,0], 'H': res[:,1], 'size': res[:,2], 'me': res[:,4], \n",
    "                     'fsr_mr': res[:,6], 'mse': res[:,8], 'csr': res[:,10], 'jac': res[:,12],\n",
    "                     'se_size': res[:,3], 'se_me': res[:,5], 'se_fsr': res[:,7], 'se_mse': res[:,9],\n",
    "                     'se_csr': res[:,11], 'se_jac': res[:,13]})\n",
    "print(np.round(bic2, 3))"
   ]
  }
 ],
 "metadata": {
  "kernelspec": {
   "display_name": "Python [default]",
   "language": "python",
   "name": "python3"
  },
  "language_info": {
   "codemirror_mode": {
    "name": "ipython",
    "version": 3
   },
   "file_extension": ".py",
   "mimetype": "text/x-python",
   "name": "python",
   "nbconvert_exporter": "python",
   "pygments_lexer": "ipython3",
   "version": "3.5.2"
  }
 },
 "nbformat": 4,
 "nbformat_minor": 1
}
